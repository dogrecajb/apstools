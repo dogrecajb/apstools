{
 "cells": [
  {
   "cell_type": "markdown",
   "metadata": {},
   "source": [
    "# demo: Create a SPEC file from databroker\n",
    "\n",
    "Get a recent scan from the databroker and write it to a spec data file."
   ]
  },
  {
   "cell_type": "code",
   "execution_count": 1,
   "metadata": {},
   "outputs": [],
   "source": [
    "# load our standard mongodb configuration, used by Bluesky\n",
    "from databroker import Broker\n",
    "db = Broker.named(\"mongodb_config\")"
   ]
  },
  {
   "cell_type": "code",
   "execution_count": 2,
   "metadata": {},
   "outputs": [
    {
     "name": "stdout",
     "output_type": "stream",
     "text": [
      "\n",
      "Run Stop\n",
      "========\n",
      "exit_status     : success                                 \n",
      "num_events      :\n",
      "  primary         : 10                                      \n",
      "run_start       : ed60831f-d058-47b9-beb0-7b64d5bd68ed    \n",
      "time            : 1551280323.256333                       \n",
      "uid             : 98bd1f66-49cb-47cc-9cbc-325a0739a436    \n"
     ]
    }
   ],
   "source": [
    "# get the last scan from the databroker \n",
    "# and print the stop document to confirm\n",
    "# it was successful\n",
    "\n",
    "h = db[-1]\n",
    "print(h.stop)"
   ]
  },
  {
   "cell_type": "code",
   "execution_count": 3,
   "metadata": {},
   "outputs": [
    {
     "data": {
      "text/plain": [
       "'spec_databroker.dat'"
      ]
     },
     "execution_count": 3,
     "metadata": {},
     "output_type": "execute_result"
    }
   ],
   "source": [
    "# create a SPEC file writer callback\n",
    "from apstools.filewriters import SpecWriterCallback\n",
    "specwriter = SpecWriterCallback()\n",
    "\n",
    "specwriter.newfile(\"spec_databroker.dat\")"
   ]
  },
  {
   "cell_type": "code",
   "execution_count": 4,
   "metadata": {},
   "outputs": [],
   "source": [
    "# loop through the document stream\n",
    "# passing each document to the writer\n",
    "for kd in h.documents():\n",
    "    key, doc = kd\n",
    "    specwriter.receiver(key, doc)\n",
    "\n",
    "# that's it!"
   ]
  },
  {
   "cell_type": "code",
   "execution_count": 5,
   "metadata": {},
   "outputs": [
    {
     "name": "stdout",
     "output_type": "stream",
     "text": [
      "#F spec_databroker.dat\r\n",
      "#E 1551280334\r\n",
      "#D Wed Feb 27 09:12:14 2019\r\n",
      "#C BlueSky  user = mintadmin  host = mint-vm\r\n",
      "\r\n",
      "#S 1152  rel_scan(detectors=['scaler'], num=10, args=['m2', -1, 1], per_step=None)\r\n",
      "#D Wed Feb 27 09:11:53 2019\r\n",
      "#C Wed Feb 27 09:11:53 2019.  plan_type = generator\r\n",
      "#C Wed Feb 27 09:11:53 2019.  uid = ed60831f-d058-47b9-beb0-7b64d5bd68ed\r\n",
      "#MD APSTOOLS_VERSION = 2019.0225.0+6.g60de551.dirty\r\n",
      "#MD BLUESKY_VERSION = 1.4.1\r\n",
      "#MD OPHYD_VERSION = 1.3.0\r\n",
      "#MD SESSION_START = 2019-02-27 09:11:46.449405\r\n",
      "#MD beamline_id = developer\r\n",
      "#MD ipython_session_start = 2018-02-14 12:54:06.447450\r\n",
      "#MD login_id = mintadmin@mint-vm\r\n",
      "#MD motors = ['m2']\r\n",
      "#MD num_intervals = 9\r\n",
      "#MD num_points = 10\r\n",
      "#MD pid = 8009\r\n",
      "#MD plan_pattern = inner_product\r\n",
      "#MD plan_pattern_args = {'num': 10, 'args': [\"EpicsMotor(prefix='prj:m2', name='m2', settle_time=0.0, timeout=None, read_attrs=['user_readback', 'user_setpoint'], configuration_attrs=['user_offset', 'user_offset_dir', 'velocity', 'acceleration', 'motor_egu'])\", -1, 1]}\r\n",
      "#MD plan_pattern_module = bluesky.plan_patterns\r\n",
      "#MD proposal_id = None\r\n",
      "#N 10\r\n",
      "#L m2  Epoch  Epoch_float  scaler_time  m2_user_setpoint  clock  monitor  detector\r\n",
      "-1.0 2 2.2812697887420654 0.2 -1.0 2000000.0 0.0 0.0\r\n",
      "-0.78 3 3.1915488243103027 0.2 -0.7777777777777778 2000000.0 0.0 0.0\r\n",
      "-0.56 4 3.993082284927368 0.2 -0.5555555555555556 2000000.0 1.0 1.0\r\n",
      "-0.33 5 4.795122861862183 0.2 -0.33333333333333337 2000000.0 1.0 1.0\r\n",
      "-0.11 5 5.497302055358887 0.1 -0.11111111111111116 1000000.0 0.0 0.0\r\n",
      "0.11 6 6.298046350479126 0.1 0.11111111111111116 1000000.0 0.0 0.0\r\n",
      "0.33 7 6.999767303466797 0.2 0.33333333333333326 2000000.0 0.0 1.0\r\n",
      "0.56 8 7.800537824630737 0.2 0.5555555555555554 2000000.0 1.0 1.0\r\n",
      "0.78 9 8.603376865386963 0.2 0.7777777777777777 2000000.0 0.0 0.0\r\n",
      "1.0 9 9.30357551574707 0.2 1.0 2000000.0 1.0 0.0\r\n",
      "#C Wed Feb 27 09:12:03 2019.  num_events_primary = 10\r\n",
      "#C Wed Feb 27 09:12:03 2019.  exit_status = success\r\n"
     ]
    }
   ],
   "source": [
    "# confirm the SPEC file has the contents\n",
    "\n",
    "!cat spec_databroker.dat"
   ]
  }
 ],
 "metadata": {
  "kernelspec": {
   "display_name": "Python 3",
   "language": "python",
   "name": "python3"
  },
  "language_info": {
   "codemirror_mode": {
    "name": "ipython",
    "version": 3
   },
   "file_extension": ".py",
   "mimetype": "text/x-python",
   "name": "python",
   "nbconvert_exporter": "python",
   "pygments_lexer": "ipython3",
   "version": "3.6.6"
  }
 },
 "nbformat": 4,
 "nbformat_minor": 2
}
