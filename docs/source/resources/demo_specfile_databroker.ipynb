{
 "cells": [
  {
   "cell_type": "markdown",
   "metadata": {},
   "source": [
    "# demo: Create a SPEC file from databroker\n",
    "\n",
    "Get a recent scan from the databroker and write it to a spec data file."
   ]
  },
  {
   "cell_type": "code",
   "execution_count": 1,
   "metadata": {},
   "outputs": [],
   "source": [
    "# load our standard mongodb configuration, used by Bluesky\n",
    "from databroker import Broker\n",
    "db = Broker.named(\"mongodb_config\")"
   ]
  },
  {
   "cell_type": "code",
   "execution_count": 2,
   "metadata": {},
   "outputs": [
    {
     "name": "stdout",
     "output_type": "stream",
     "text": [
      "\n",
      "Run Stop\n",
      "========\n",
      "exit_status     : success                                 \n",
      "num_events      :\n",
      "  primary         : 8                                       \n",
      "run_start       : 7ea6bf2a-ba29-4938-9faa-bf1df1672397    \n",
      "time            : 1550876931.0066745                      \n",
      "uid             : b4002fc6-2529-40d7-9d25-63e9f70418a1    \n"
     ]
    }
   ],
   "source": [
    "# get the last scan from the databroker \n",
    "# and print the stop document to confirm\n",
    "# it was successful\n",
    "\n",
    "h = db[-1]\n",
    "print(h.stop)"
   ]
  },
  {
   "cell_type": "code",
   "execution_count": 3,
   "metadata": {},
   "outputs": [
    {
     "data": {
      "text/plain": [
       "'spec_databroker.dat'"
      ]
     },
     "execution_count": 3,
     "metadata": {},
     "output_type": "execute_result"
    }
   ],
   "source": [
    "# create a SPEC file writer callback\n",
    "from apstools.filewriters import SpecWriterCallback\n",
    "specwriter = SpecWriterCallback()\n",
    "\n",
    "specwriter.newfile(\"spec_databroker.dat\")"
   ]
  },
  {
   "cell_type": "code",
   "execution_count": 4,
   "metadata": {},
   "outputs": [],
   "source": [
    "# loop through the document stream\n",
    "# passing each document to the writer\n",
    "for kd in h.documents():\n",
    "    key, doc = kd\n",
    "    specwriter.receiver(key, doc)\n",
    "\n",
    "# that's it!"
   ]
  },
  {
   "cell_type": "code",
   "execution_count": 5,
   "metadata": {},
   "outputs": [
    {
     "name": "stdout",
     "output_type": "stream",
     "text": [
      "#F spec_databroker.dat\r\n",
      "#E 1550879457\r\n",
      "#D Fri Feb 22 17:50:57 2019\r\n",
      "#C BlueSky  user = mintadmin  host = mint-vm\r\n",
      "\r\n",
      "#S 74  scan(detectors=['scaler'], num=8, args=['m1', -5, 5], per_step=None)\r\n",
      "#D Fri Feb 22 17:08:44 2019\r\n",
      "#C Fri Feb 22 17:08:44 2019.  plan_type = generator\r\n",
      "#C Fri Feb 22 17:08:44 2019.  uid = 7ea6bf2a-ba29-4938-9faa-bf1df1672397\r\n",
      "#MD APSTOOLS_VERSION = 2019.0220.0+7.g4f8000f.dirty\r\n",
      "#MD BLUESKY_VERSION = 1.4.1\r\n",
      "#MD OPHYD_VERSION = 1.3.0\r\n",
      "#MD Sample_Name = Al foil\r\n",
      "#MD Scan_Type = STEP_SCAN\r\n",
      "#MD Thickness = 0.1\r\n",
      "#MD beamline_id = Linux Mint VM7\r\n",
      "#MD code_number = 6061-T6\r\n",
      "#MD login_id = mintadmin@mint-vm\r\n",
      "#MD m2 = 12.0\r\n",
      "#MD m3 = 6.0\r\n",
      "#MD motors = ['m1']\r\n",
      "#MD num_intervals = 7\r\n",
      "#MD num_points = 8\r\n",
      "#MD pid = 23635\r\n",
      "#MD plan_pattern = inner_product\r\n",
      "#MD plan_pattern_args = {'num': 8, 'args': [\"EpicsMotor(prefix='vm7:m1', name='m1', settle_time=0.0, timeout=None, read_attrs=['user_readback', 'user_setpoint'], configuration_attrs=['user_offset', 'user_offset_dir', 'velocity', 'acceleration', 'motor_egu'])\", -5, 5]}\r\n",
      "#MD plan_pattern_module = bluesky.plan_patterns\r\n",
      "#MD proposal_id = testing\r\n",
      "#MD remarks = None\r\n",
      "#MD shutter = open\r\n",
      "#MD sx = 12\r\n",
      "#MD sy = 6\r\n",
      "#N 8\r\n",
      "#L m1  I0  m1_user_setpoint  scaler_time  scint  Epoch_float  Epoch  clock\r\n",
      "-5.0 1.0 -5.0 0.2 1.0 1.6995606422424316 2 2000000.0\r\n",
      "-3.5725000000000002 1.0 -3.571428571428571 0.2 1.0 2.4727885723114014 2 2000000.0\r\n",
      "-2.1425 0.0 -2.142857142857143 0.2 0.0 3.1733808517456055 3 2000000.0\r\n",
      "-0.715 0.0 -0.7142857142857144 0.2 0.0 3.7735178470611572 4 2000000.0\r\n",
      "0.715 1.0 0.7142857142857144 0.2 0.0 4.376965284347534 4 2000000.0\r\n",
      "2.1425 0.0 2.1428571428571432 0.2 1.0 5.079007148742676 5 2000000.0\r\n",
      "3.5725000000000002 0.0 3.571428571428571 0.2 0.0 5.780789613723755 6 2000000.0\r\n",
      "5.0 0.0 5.0 0.2 1.0 6.381625652313232 6 2000000.0\r\n",
      "#C Fri Feb 22 17:08:51 2019.  num_events_primary = 8\r\n",
      "#C Fri Feb 22 17:08:51 2019.  exit_status = success\r\n"
     ]
    }
   ],
   "source": [
    "# confirm the SPEC file has the contents\n",
    "\n",
    "!cat spec_databroker.dat"
   ]
  },
  {
   "cell_type": "code",
   "execution_count": null,
   "metadata": {},
   "outputs": [],
   "source": []
  }
 ],
 "metadata": {
  "kernelspec": {
   "display_name": "Python 3",
   "language": "python",
   "name": "python3"
  },
  "language_info": {
   "codemirror_mode": {
    "name": "ipython",
    "version": 3
   },
   "file_extension": ".py",
   "mimetype": "text/x-python",
   "name": "python",
   "nbconvert_exporter": "python",
   "pygments_lexer": "ipython3",
   "version": "3.6.6"
  }
 },
 "nbformat": 4,
 "nbformat_minor": 2
}
