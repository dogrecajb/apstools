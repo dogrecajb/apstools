{
 "cells": [
  {
   "cell_type": "markdown",
   "metadata": {},
   "source": [
    "# Demonstrate ``TuneAxis``\n",
    "\n",
    "In this example, we demonstrate the `APS_BlueSky_tools.plans.TuneAxis()` plan.  The `TuneAxis()` support may be used to align (a.k.a. *tune*) a signal against an axis.\n",
    "\n",
    "We'll use a software-only (not connected to hardware) motor as a positioner.  Here, we prepare a signal that is a computation based on the value of our positioner.  The computed signal is a model of a realistic diffraction peak one might encounter in a powder diffraction scan.  The model peak is a pseudo-voigt function to which some noise has been added.  Random numbers are used to modify the ideal pseudo-voigt function so as to simulate a realistic signal.\n",
    "\n",
    "For this demo, we do not need the databroker since we do not plan to review any of this data after collection.  We'll display the data during the scan using the *BestEffortCallback()* code."
   ]
  },
  {
   "cell_type": "code",
   "execution_count": 1,
   "metadata": {},
   "outputs": [],
   "source": [
    "from ophyd import EpicsMotor\n",
    "from APS_BlueSky_tools.synApps_ophyd import swaitRecord, swait_setup_random_number\n",
    "from APS_BlueSky_tools.examples import SynPseudoVoigt\n",
    "from APS_BlueSky_tools.plans import TuneAxis\n",
    "from bluesky.callbacks import LiveTable\n",
    "import numpy as np\n",
    "\n",
    "from bluesky import RunEngine\n",
    "RE = RunEngine({})"
   ]
  },
  {
   "cell_type": "markdown",
   "metadata": {},
   "source": [
    "Figure out which workstation we are running.  The *mint-vm* host has a different IOC prefix."
   ]
  },
  {
   "cell_type": "code",
   "execution_count": 2,
   "metadata": {},
   "outputs": [],
   "source": [
    "import socket\n",
    "if socket.gethostname().find(\"mint-vm\") >= 0:\n",
    "    prefix = \"prj:\"\n",
    "else:\n",
    "    prefix = \"xxx:\""
   ]
  },
  {
   "cell_type": "markdown",
   "metadata": {},
   "source": [
    "Connect to our motor *before* we create the simulated detector signal."
   ]
  },
  {
   "cell_type": "code",
   "execution_count": 3,
   "metadata": {},
   "outputs": [],
   "source": [
    "m1 = EpicsMotor(prefix+\"m1\", name=\"m1\")\n",
    "m1.wait_for_connection()"
   ]
  },
  {
   "cell_type": "markdown",
   "metadata": {},
   "source": [
    "Define a starting position, we'll use this later in the demo."
   ]
  },
  {
   "cell_type": "code",
   "execution_count": 4,
   "metadata": {},
   "outputs": [],
   "source": [
    "m1.move(-1.5)\n",
    "starting_position = m1.position"
   ]
  },
  {
   "cell_type": "markdown",
   "metadata": {},
   "source": [
    "## Setup the simulated detector signal.  \n",
    "\n",
    "Randomize the values a bit so that we have something interesting to find with `TuneAxis()`."
   ]
  },
  {
   "cell_type": "code",
   "execution_count": 5,
   "metadata": {},
   "outputs": [],
   "source": [
    "spvoigt = SynPseudoVoigt(\n",
    "    'spvoigt', m1, 'm1', \n",
    "    center=-1.5 + 0.4*np.random.uniform(), \n",
    "    eta=0.2 + 0.5*np.random.uniform(), \n",
    "    sigma=0.001 + 0.05*np.random.uniform(), \n",
    "    scale=1e5,\n",
    "    bkg=0.01*np.random.uniform())"
   ]
  },
  {
   "cell_type": "markdown",
   "metadata": {},
   "source": [
    "Reveal the actual values.  These are the answers we expect to discover."
   ]
  },
  {
   "cell_type": "code",
   "execution_count": 6,
   "metadata": {},
   "outputs": [
    {
     "name": "stdout",
     "output_type": "stream",
     "text": [
      "spvoigt.scale:  100000.0\n",
      "spvoigt.center:  -1.20696530881405\n",
      "spvoigt.sigma:  0.041924455226982904\n",
      "spvoigt.eta:  0.2937992411916956\n",
      "spvoigt.bkg:  0.007137869490883047\n"
     ]
    }
   ],
   "source": [
    "print(\"spvoigt.scale: \", spvoigt.scale)\n",
    "print(\"spvoigt.center: \", spvoigt.center)\n",
    "print(\"spvoigt.sigma: \", spvoigt.sigma)\n",
    "print(\"spvoigt.eta: \", spvoigt.eta)\n",
    "print(\"spvoigt.bkg: \", spvoigt.bkg)"
   ]
  },
  {
   "cell_type": "markdown",
   "metadata": {},
   "source": [
    "We will add the actual values as metadata to these scans."
   ]
  },
  {
   "cell_type": "code",
   "execution_count": 7,
   "metadata": {},
   "outputs": [],
   "source": [
    "md = dict(\n",
    "    activity = \"TuneAxis development and testing\",\n",
    "    peak_model = \"pseudo Voigt\",\n",
    "    peak_scale = spvoigt.scale,\n",
    "    peak_center = spvoigt.center,\n",
    "    peak_sigma = spvoigt.sigma,\n",
    "    peak_eta = spvoigt.eta,\n",
    "    peak_bkg = spvoigt.bkg\n",
    "    )"
   ]
  },
  {
   "cell_type": "markdown",
   "metadata": {},
   "source": [
    "## Set up the tuner\n",
    "\n",
    "Create a *TuneAxis()* object.  The *tuner* needs to know the positioner, what range to scan to find the peak, *and* it needs the name of the signal to be scanned (since the signal list may have more than one signal)."
   ]
  },
  {
   "cell_type": "code",
   "execution_count": 8,
   "metadata": {},
   "outputs": [],
   "source": [
    "tuner = TuneAxis([spvoigt], m1, signal_name=spvoigt.name)\n",
    "tuner.width = 2.5\n",
    "tuner.step_factor = tuner.num/2.5"
   ]
  },
  {
   "cell_type": "markdown",
   "metadata": {},
   "source": [
    "Configure the *LiveTable* to also show the simulated detector signal."
   ]
  },
  {
   "cell_type": "code",
   "execution_count": 9,
   "metadata": {},
   "outputs": [],
   "source": [
    "live_table = LiveTable([\"m1\", \"spvoigt\"])\n",
    "#spvoigt.read_attrs = [\"value\"]"
   ]
  },
  {
   "cell_type": "markdown",
   "metadata": {},
   "source": [
    "# Multi-pass tune\n",
    "\n",
    "Execute multiple passes to refine the centroid determination.\n",
    "Each subsequent pass will reduce the width of the next scan by ``step_factor``."
   ]
  },
  {
   "cell_type": "code",
   "execution_count": 10,
   "metadata": {},
   "outputs": [
    {
     "name": "stdout",
     "output_type": "stream",
     "text": [
      "+-----------+------------+------------+------------+\n",
      "|   seq_num |       time |         m1 |    spvoigt |\n",
      "+-----------+------------+------------+------------+\n",
      "|         1 | 23:54:12.1 |   -2.75000 |    735.460 |\n",
      "|         2 | 23:54:12.6 |   -2.47000 |    746.122 |\n",
      "|         3 | 23:54:13.1 |   -2.19000 |    767.128 |\n",
      "|         4 | 23:54:13.6 |   -1.92000 |    815.007 |\n",
      "|         5 | 23:54:14.1 |   -1.64000 |    986.615 |\n",
      "|         6 | 23:54:14.6 |   -1.36000 |   2855.119 |\n",
      "|         7 | 23:54:15.1 |   -1.08000 |   4322.361 |\n",
      "|         8 | 23:54:15.6 |   -0.81000 |   1037.875 |\n",
      "|         9 | 23:54:16.1 |   -0.53000 |    826.038 |\n",
      "|        10 | 23:54:16.6 |   -0.25000 |    770.068 |\n",
      "+-----------+------------+------------+------------+\n",
      "generator TuneAxis.multi_pass_tune ['99522b5a'] (scan num: 1)\n",
      "x : m1\n",
      "y : spvoigt\n",
      "cen : -1.1707266098058466\n",
      "com : -1.3523909322853631\n",
      "fwhm : 0.4763131715445944\n",
      "min : [  -2.75        735.45968109]\n",
      "max : [ -1.08000000e+00   4.32236078e+03]\n",
      "crossings : [-1.4088832  -0.93257002]\n",
      "tune_ok : True\n",
      "center : -1.1707266098058466\n",
      "initial_position : -1.5\n",
      "final_position : -1.1707266098058466\n",
      "+-----------+------------+------------+------------+\n",
      "|   seq_num |       time |         m1 |    spvoigt |\n",
      "+-----------+------------+------------+------------+\n",
      "|         1 | 23:54:18.5 |   -0.86000 |   1136.571 |\n",
      "|         2 | 23:54:18.8 |   -0.93000 |   1371.893 |\n",
      "|         3 | 23:54:19.1 |   -1.00000 |   1872.193 |\n",
      "|         4 | 23:54:19.4 |   -1.07000 |   3570.574 |\n",
      "|         5 | 23:54:19.7 |   -1.14000 |  28707.165 |\n",
      "|         6 | 23:54:20.0 |   -1.20000 |  98956.670 |\n",
      "|         7 | 23:54:20.3 |   -1.27000 |  32530.115 |\n",
      "|         8 | 23:54:20.6 |   -1.34000 |   3827.644 |\n",
      "|         9 | 23:54:20.9 |   -1.41000 |   1915.823 |\n",
      "|        10 | 23:54:21.2 |   -1.48000 |   1390.538 |\n",
      "+-----------+------------+------------+------------+\n",
      "generator TuneAxis.multi_pass_tune ['0e21c496'] (scan num: 2)\n",
      "x : m1\n",
      "y : spvoigt\n",
      "cen : -1.2048835924261885\n",
      "com : -1.1996096653261756\n",
      "fwhm : 0.0933151889449273\n",
      "min : [ -8.60000000e-01   1.13657083e+03]\n",
      "max : [ -1.20000000e+00   9.89566704e+04]\n",
      "crossings : [-1.158226   -1.25154119]\n",
      "tune_ok : True\n",
      "center : -1.2048835924261885\n",
      "initial_position : -1.17\n",
      "final_position : -1.2048835924261885\n",
      "+-----------+------------+------------+------------+\n",
      "|   seq_num |       time |         m1 |    spvoigt |\n",
      "+-----------+------------+------------+------------+\n",
      "|         1 | 23:54:22.1 |   -1.28000 |  23481.514 |\n",
      "|         2 | 23:54:22.3 |   -1.26000 |  43740.545 |\n",
      "|         3 | 23:54:22.5 |   -1.24000 |  70613.098 |\n",
      "|         4 | 23:54:22.7 |   -1.23000 |  84007.392 |\n",
      "|         5 | 23:54:22.9 |   -1.21000 | 100375.885 |\n",
      "|         6 | 23:54:23.1 |   -1.19000 |  91027.972 |\n",
      "|         7 | 23:54:23.3 |   -1.17000 |  65118.961 |\n",
      "|         8 | 23:54:23.5 |   -1.16000 |  51450.122 |\n",
      "|         9 | 23:54:23.7 |   -1.14000 |  28707.165 |\n",
      "|        10 | 23:54:23.9 |   -1.12000 |  14468.543 |\n",
      "+-----------+------------+------------+------------+\n",
      "generator TuneAxis.multi_pass_tune ['b0752679'] (scan num: 3)\n",
      "x : m1\n",
      "y : spvoigt\n",
      "cen : -1.2070932473002998\n",
      "com : -1.2060765066845995\n",
      "fwhm : 0.08544823613610752\n",
      "min : [ -1.12000000e+00   1.44685435e+04]\n",
      "max : [ -1.21000000e+00   1.00375885e+05]\n",
      "crossings : [-1.24981737 -1.16436913]\n",
      "tune_ok : True\n",
      "center : -1.2070932473002998\n",
      "initial_position : -1.2\n",
      "final_position : -1.2070932473002998\n",
      "+-----------+------------+------------+------------+\n",
      "|   seq_num |       time |         m1 |    spvoigt |\n",
      "+-----------+------------+------------+------------+\n",
      "|         1 | 23:54:24.5 |   -1.19000 |  91027.972 |\n",
      "|         2 | 23:54:24.5 |   -1.19000 |  91027.972 |\n",
      "|         3 | 23:54:24.6 |   -1.20000 |  98956.670 |\n",
      "|         4 | 23:54:24.6 |   -1.20000 |  98956.670 |\n",
      "|         5 | 23:54:24.7 |   -1.21000 | 100375.885 |\n",
      "|         6 | 23:54:24.7 |   -1.21000 | 100375.885 |\n",
      "|         7 | 23:54:24.8 |   -1.22000 |  94792.069 |\n",
      "|         8 | 23:54:24.8 |   -1.22000 |  94792.069 |\n",
      "|         9 | 23:54:24.9 |   -1.23000 |  84007.392 |\n",
      "|        10 | 23:54:24.9 |   -1.23000 |  84007.392 |\n",
      "+-----------+------------+------------+------------+\n",
      "generator TuneAxis.multi_pass_tune ['3872201b'] (scan num: 4)\n",
      "x : m1\n",
      "y : spvoigt\n",
      "cen : -1.2069394457901488\n",
      "com : -1.21\n",
      "fwhm : 0.030943562814357506\n",
      "min : [ -1.23000000e+00   8.40073921e+04]\n",
      "max : [ -1.21000000e+00   1.00375885e+05]\n",
      "crossings : [-1.19146766 -1.22241123]\n",
      "tune_ok : False\n",
      "center : -1.2070932473002998\n",
      "initial_position : -1.21\n",
      "final_position : -1.21\n"
     ]
    },
    {
     "data": {
      "text/plain": [
       "('99522b5a-ab40-46a3-87c2-0fdac614d585',\n",
       " '0e21c496-7c4d-482d-b4a2-fd1497e302d9',\n",
       " 'b0752679-0e95-4194-901d-75c77b4ea60b',\n",
       " '3872201b-4471-4b11-8fd4-40af3a576ac1')"
      ]
     },
     "execution_count": 10,
     "metadata": {},
     "output_type": "execute_result"
    }
   ],
   "source": [
    "RE(tuner.multi_pass_tune(), live_table, md=md)"
   ]
  },
  {
   "cell_type": "markdown",
   "metadata": {},
   "source": [
    "Show the results from the multi-pass tuning."
   ]
  },
  {
   "cell_type": "code",
   "execution_count": 11,
   "metadata": {},
   "outputs": [
    {
     "name": "stdout",
     "output_type": "stream",
     "text": [
      "final:  -1.2070932473\n",
      "max (-1.21, 100375.88502190913)\n",
      "min (-1.23, 84007.39214119091)\n",
      "-- -1.17072660981 0.476313171545\n",
      "-- -1.20488359243 0.0933151889449\n",
      "-- -1.2070932473 0.0854482361361\n",
      "-- -1.20693944579 0.0309435628144\n",
      "m1= -1.21  det= 84007.3921412\n"
     ]
    }
   ],
   "source": [
    "print(\"final: \", tuner.center)\n",
    "print(\"max\", tuner.peaks.max)\n",
    "print(\"min\", tuner.peaks.min)\n",
    "for stat in tuner.stats:\n",
    "    print(\"--\", stat.cen, stat.fwhm)\n",
    "print(\"m1=\", m1.position, \"\", \"det=\", spvoigt.value)"
   ]
  },
  {
   "cell_type": "markdown",
   "metadata": {},
   "source": [
    "Compare the final position (just printed) with the expected value shown a couple steps back."
   ]
  },
  {
   "cell_type": "markdown",
   "metadata": {},
   "source": [
    "## Single-pass tune\n",
    "\n",
    "Repeat but with only one pass.  Reset the motor to the starting position and increase the number of steps by a factor of three."
   ]
  },
  {
   "cell_type": "code",
   "execution_count": 12,
   "metadata": {},
   "outputs": [
    {
     "name": "stdout",
     "output_type": "stream",
     "text": [
      "+-----------+------------+------------+------------+\n",
      "|   seq_num |       time |         m1 |    spvoigt |\n",
      "+-----------+------------+------------+------------+\n",
      "|         1 | 23:54:27.3 |   -2.75000 |    735.460 |\n",
      "|         2 | 23:54:27.6 |   -2.66000 |    738.225 |\n",
      "|         3 | 23:54:28.0 |   -2.58000 |    741.153 |\n",
      "|         4 | 23:54:28.2 |   -2.49000 |    745.123 |\n",
      "|         5 | 23:54:28.5 |   -2.41000 |    749.424 |\n",
      "|         6 | 23:54:28.8 |   -2.32000 |    755.412 |\n",
      "|         7 | 23:54:29.1 |   -2.23000 |    763.045 |\n",
      "|         8 | 23:54:29.4 |   -2.15000 |    771.740 |\n",
      "|         9 | 23:54:29.7 |   -2.06000 |    784.582 |\n",
      "|        10 | 23:54:30.0 |   -1.97000 |    802.215 |\n",
      "|        11 | 23:54:30.3 |   -1.89000 |    824.059 |\n",
      "|        12 | 23:54:30.6 |   -1.80000 |    859.890 |\n",
      "|        13 | 23:54:30.9 |   -1.72000 |    908.682 |\n",
      "|        14 | 23:54:31.2 |   -1.63000 |    999.539 |\n",
      "|        15 | 23:54:31.5 |   -1.54000 |   1172.117 |\n",
      "|        16 | 23:54:31.8 |   -1.46000 |   1498.777 |\n",
      "|        17 | 23:54:32.1 |   -1.37000 |   2572.811 |\n",
      "|        18 | 23:54:32.4 |   -1.28000 |  23481.514 |\n",
      "|        19 | 23:54:32.7 |   -1.20000 |  98956.670 |\n",
      "|        20 | 23:54:33.0 |   -1.11000 |  10208.928 |\n",
      "|        21 | 23:54:33.3 |   -1.03000 |   2284.663 |\n",
      "|        22 | 23:54:33.6 |   -0.94000 |   1420.911 |\n",
      "|        23 | 23:54:33.9 |   -0.85000 |   1113.533 |\n",
      "|        24 | 23:54:34.2 |   -0.77000 |    981.773 |\n",
      "|        25 | 23:54:34.5 |   -0.68000 |    898.578 |\n",
      "|        26 | 23:54:34.8 |   -0.59000 |    848.827 |\n",
      "|        27 | 23:54:35.1 |   -0.51000 |    819.711 |\n",
      "|        28 | 23:54:35.4 |   -0.42000 |    796.933 |\n",
      "|        29 | 23:54:35.7 |   -0.34000 |    782.331 |\n",
      "|        30 | 23:54:36.1 |   -0.25000 |    770.068 |\n",
      "+-----------+------------+------------+------------+\n",
      "generator TuneAxis.tune ['9a38f942'] (scan num: 5)\n",
      "x : m1\n",
      "y : spvoigt\n",
      "cen : -1.2011256427956152\n",
      "com : -1.2465416323866727\n",
      "fwhm : 0.10185842776821108\n",
      "min : [  -2.75        735.45968109]\n",
      "max : [ -1.20000000e+00   9.89566704e+04]\n",
      "crossings : [-1.25205486 -1.15019643]\n",
      "tune_ok : True\n",
      "center : -1.2011256427956152\n",
      "initial_position : -1.5\n",
      "final_position : -1.2011256427956152\n"
     ]
    },
    {
     "data": {
      "text/plain": [
       "('9a38f942-aff8-4ae9-85e5-5807e392af6a',)"
      ]
     },
     "execution_count": 12,
     "metadata": {},
     "output_type": "execute_result"
    }
   ],
   "source": [
    "m1.move(starting_position)\n",
    "tuner.num *= 3\n",
    "RE(tuner.tune(), live_table, md=md)"
   ]
  },
  {
   "cell_type": "markdown",
   "metadata": {},
   "source": [
    "Compare the single-pass scan with the previous multi-pass scan.  Each used the same number of points overall.  \n",
    "\n",
    "The results are comparable but we already knew the position of the peak approximately."
   ]
  },
  {
   "cell_type": "code",
   "execution_count": 13,
   "metadata": {},
   "outputs": [
    {
     "name": "stdout",
     "output_type": "stream",
     "text": [
      "final:  -1.2011256428\n",
      "max (-1.2, 98956.670376535956)\n",
      "min (-2.75, 735.45968108701959)\n",
      "centroid -1.2011256428\n",
      "FWHM 0.101858427768\n",
      "m1= -1.2  det= 770.067766366\n"
     ]
    }
   ],
   "source": [
    "print(\"final: \", tuner.center)\n",
    "print(\"max\", tuner.peaks.max)\n",
    "print(\"min\", tuner.peaks.min)\n",
    "print(\"centroid\", tuner.peaks.cen)\n",
    "print(\"FWHM\", tuner.peaks.fwhm)\n",
    "print(\"m1=\", m1.position, \"\", \"det=\", spvoigt.value)"
   ]
  },
  {
   "cell_type": "code",
   "execution_count": null,
   "metadata": {},
   "outputs": [],
   "source": []
  }
 ],
 "metadata": {
  "kernelspec": {
   "display_name": "Python 3",
   "language": "python",
   "name": "python3"
  },
  "language_info": {
   "codemirror_mode": {
    "name": "ipython",
    "version": 3
   },
   "file_extension": ".py",
   "mimetype": "text/x-python",
   "name": "python",
   "nbconvert_exporter": "python",
   "pygments_lexer": "ipython3",
   "version": "3.6.6"
  }
 },
 "nbformat": 4,
 "nbformat_minor": 2
}
