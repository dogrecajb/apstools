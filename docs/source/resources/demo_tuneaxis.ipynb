{
 "cells": [
  {
   "cell_type": "markdown",
   "metadata": {},
   "source": [
    "# Demonstrate ``TuneAxis``\n",
    "\n",
    "In this example, we demonstrate the `apstools.plans.TuneAxis()` plan.  The `TuneAxis()` support may be used to align (a.k.a. *tune*) a signal against an axis.\n",
    "\n",
    "We'll use a software-only (not connected to hardware) motor as a positioner.  Here, we prepare a signal that is a computation based on the value of our positioner.  The computed signal is a model of a realistic diffraction peak ([pseudo-Voigt](https://en.wikipedia.org/wiki/Voigt_profile), a mixture of a Gaussian and a Lorentzian) one might encounter in a powder diffraction scan.  The model peak is a pseudo-voigt function to which some noise has been added.  Random numbers are used to modify the ideal pseudo-voigt function so as to simulate a realistic signal.\n",
    "\n",
    "For this demo, we do not need the databroker since we do not plan to review any of this data after collection.  We'll display the data during the scan using the *BestEffortCallback()* code."
   ]
  },
  {
   "cell_type": "code",
   "execution_count": 1,
   "metadata": {},
   "outputs": [],
   "source": [
    "from ophyd import EpicsMotor\n",
    "from apstools.synApps_ophyd import swaitRecord, swait_setup_random_number\n",
    "from apstools.signals import SynPseudoVoigt\n",
    "from apstools.plans import TuneAxis\n",
    "from bluesky.callbacks import LiveTable\n",
    "import numpy as np\n",
    "\n",
    "from bluesky import RunEngine\n",
    "RE = RunEngine({})"
   ]
  },
  {
   "cell_type": "markdown",
   "metadata": {},
   "source": [
    "Figure out which workstation we are running.  The *mint-vm* host has a different IOC prefix."
   ]
  },
  {
   "cell_type": "code",
   "execution_count": 2,
   "metadata": {},
   "outputs": [],
   "source": [
    "import socket\n",
    "if socket.gethostname().find(\"mint-vm\") >= 0:\n",
    "    prefix = \"vm7:\"\n",
    "else:\n",
    "    prefix = \"xxx:\""
   ]
  },
  {
   "cell_type": "markdown",
   "metadata": {},
   "source": [
    "Connect to our motor *before* we create the simulated detector signal."
   ]
  },
  {
   "cell_type": "code",
   "execution_count": 3,
   "metadata": {},
   "outputs": [],
   "source": [
    "m1 = EpicsMotor(prefix+\"m1\", name=\"m1\")\n",
    "m1.wait_for_connection()"
   ]
  },
  {
   "cell_type": "markdown",
   "metadata": {},
   "source": [
    "Define a starting position, we'll use this later in the demo."
   ]
  },
  {
   "cell_type": "code",
   "execution_count": 4,
   "metadata": {},
   "outputs": [],
   "source": [
    "m1.move(-1.5)\n",
    "starting_position = m1.position"
   ]
  },
  {
   "cell_type": "markdown",
   "metadata": {},
   "source": [
    "## Setup the simulated detector signal.  \n",
    "\n",
    "Randomize the values a bit so that we have something interesting to find with `TuneAxis()`."
   ]
  },
  {
   "cell_type": "code",
   "execution_count": 5,
   "metadata": {},
   "outputs": [],
   "source": [
    "spvoigt = SynPseudoVoigt(\n",
    "    'spvoigt', m1, 'm1', \n",
    "    center=-1.5 + 0.4*np.random.uniform(), \n",
    "    eta=0.2 + 0.5*np.random.uniform(), \n",
    "    sigma=0.001 + 0.05*np.random.uniform(), \n",
    "    scale=1e5,\n",
    "    bkg=0.01*np.random.uniform())"
   ]
  },
  {
   "cell_type": "markdown",
   "metadata": {},
   "source": [
    "Reveal the actual values.  These are the answers we expect to discover."
   ]
  },
  {
   "cell_type": "code",
   "execution_count": 6,
   "metadata": {},
   "outputs": [
    {
     "name": "stdout",
     "output_type": "stream",
     "text": [
      "spvoigt.scale:  100000.0\n",
      "spvoigt.center:  -1.308416833562333\n",
      "spvoigt.sigma:  0.03901796340367001\n",
      "spvoigt.eta:  0.5323629591618759\n",
      "spvoigt.bkg:  0.0055871974459740905\n"
     ]
    }
   ],
   "source": [
    "print(\"spvoigt.scale: \", spvoigt.scale)\n",
    "print(\"spvoigt.center: \", spvoigt.center)\n",
    "print(\"spvoigt.sigma: \", spvoigt.sigma)\n",
    "print(\"spvoigt.eta: \", spvoigt.eta)\n",
    "print(\"spvoigt.bkg: \", spvoigt.bkg)"
   ]
  },
  {
   "cell_type": "markdown",
   "metadata": {},
   "source": [
    "We will add the actual values as metadata to these scans."
   ]
  },
  {
   "cell_type": "code",
   "execution_count": 7,
   "metadata": {},
   "outputs": [],
   "source": [
    "md = dict(\n",
    "    activity = \"TuneAxis development and testing\",\n",
    "    peak_model = \"pseudo Voigt\",\n",
    "    peak_scale = spvoigt.scale,\n",
    "    peak_center = spvoigt.center,\n",
    "    peak_sigma = spvoigt.sigma,\n",
    "    peak_eta = spvoigt.eta,\n",
    "    peak_bkg = spvoigt.bkg\n",
    "    )"
   ]
  },
  {
   "cell_type": "markdown",
   "metadata": {},
   "source": [
    "## Set up the tuner\n",
    "\n",
    "Create a *TuneAxis()* object.  The *tuner* needs to know the positioner, what range to scan to find the peak, *and* it needs the name of the signal to be scanned (since the signal list may have more than one signal)."
   ]
  },
  {
   "cell_type": "code",
   "execution_count": 8,
   "metadata": {},
   "outputs": [],
   "source": [
    "tuner = TuneAxis([spvoigt], m1, signal_name=spvoigt.name)\n",
    "tuner.width = 2.5\n",
    "tuner.step_factor = tuner.num/2.5"
   ]
  },
  {
   "cell_type": "markdown",
   "metadata": {},
   "source": [
    "Configure the *LiveTable* to also show the simulated detector signal."
   ]
  },
  {
   "cell_type": "code",
   "execution_count": 9,
   "metadata": {},
   "outputs": [],
   "source": [
    "live_table = LiveTable([\"m1\", \"spvoigt\"])\n",
    "#spvoigt.read_attrs = [\"value\"]"
   ]
  },
  {
   "cell_type": "markdown",
   "metadata": {},
   "source": [
    "# Multi-pass tune\n",
    "\n",
    "Execute multiple passes to refine the centroid determination.\n",
    "Each subsequent pass will reduce the width of the next scan by ``step_factor``."
   ]
  },
  {
   "cell_type": "code",
   "execution_count": 10,
   "metadata": {},
   "outputs": [
    {
     "name": "stdout",
     "output_type": "stream",
     "text": [
      "+-----------+------------+------------+------------+\n",
      "|   seq_num |       time |         m1 |    spvoigt |\n",
      "+-----------+------------+------------+------------+\n",
      "|         1 | 16:50:45.2 |   -2.75000 |    597.691 |\n",
      "|         2 | 16:50:45.7 |   -2.47000 |    618.719 |\n",
      "|         3 | 16:50:46.2 |   -2.19000 |    662.798 |\n",
      "|         4 | 16:50:46.7 |   -1.92000 |    774.525 |\n",
      "|         5 | 16:50:47.2 |   -1.64000 |   1285.796 |\n",
      "|         6 | 16:50:47.7 |   -1.36000 |  39448.673 |\n",
      "|         7 | 16:50:48.2 |   -1.08000 |   2068.071 |\n",
      "|         8 | 16:50:48.7 |   -0.81000 |    882.983 |\n",
      "|         9 | 16:50:49.2 |   -0.53000 |    692.140 |\n",
      "|        10 | 16:50:49.7 |   -0.25000 |    630.969 |\n",
      "+-----------+------------+------------+------------+\n",
      "generator TuneAxis.multi_pass_tune ['6e2ddcf1'] (scan num: 1)\n",
      "x : m1\n",
      "y : spvoigt\n",
      "cen : -1.3585086753074413\n",
      "com : -1.3708812399969512\n",
      "fwhm : 0.2880312584860971\n",
      "min : [  -2.75        597.69056825]\n",
      "max : [ -1.36000000e+00   3.94486732e+04]\n",
      "crossings : [-1.5025243  -1.21449305]\n",
      "tune_ok : True\n",
      "center : -1.3585086753074413\n",
      "initial_position : -1.5\n",
      "final_position : -1.3585086753074413\n",
      "+-----------+------------+------------+------------+\n",
      "|   seq_num |       time |         m1 |    spvoigt |\n",
      "+-----------+------------+------------+------------+\n",
      "|         1 | 16:50:51.8 |   -1.05000 |   1745.324 |\n",
      "|         2 | 16:50:52.1 |   -1.12000 |   2748.205 |\n",
      "|         3 | 16:50:52.4 |   -1.19000 |   6239.968 |\n",
      "|         4 | 16:50:52.7 |   -1.26000 |  43173.964 |\n",
      "|         5 | 16:50:53.0 |   -1.33000 |  81451.638 |\n",
      "|         6 | 16:50:53.3 |   -1.39000 |  15723.667 |\n",
      "|         7 | 16:50:53.6 |   -1.46000 |   3891.471 |\n",
      "|         8 | 16:50:53.9 |   -1.53000 |   2159.764 |\n",
      "|         9 | 16:50:54.2 |   -1.60000 |   1495.212 |\n",
      "|        10 | 16:50:54.5 |   -1.67000 |   1171.483 |\n",
      "+-----------+------------+------------+------------+\n",
      "generator TuneAxis.multi_pass_tune ['221fbd1f'] (scan num: 2)\n",
      "x : m1\n",
      "y : spvoigt\n",
      "cen : -1.3115561216500526\n",
      "com : -1.3172723013693965\n",
      "fwhm : 0.11017176668522155\n",
      "min : [   -1.67        1171.48309953]\n",
      "max : [ -1.33000000e+00   8.14516381e+04]\n",
      "crossings : [-1.25647024 -1.366642  ]\n",
      "tune_ok : True\n",
      "center : -1.3115561216500526\n",
      "initial_position : -1.36\n",
      "final_position : -1.3115561216500526\n",
      "+-----------+------------+------------+------------+\n",
      "|   seq_num |       time |         m1 |    spvoigt |\n",
      "+-----------+------------+------------+------------+\n",
      "|         1 | 16:50:55.5 |   -1.39000 |  15723.667 |\n",
      "|         2 | 16:50:55.7 |   -1.37000 |  29265.412 |\n",
      "|         3 | 16:50:55.9 |   -1.35000 |  51985.808 |\n",
      "|         4 | 16:50:56.1 |   -1.34000 |  66421.648 |\n",
      "|         5 | 16:50:56.3 |   -1.32000 |  94231.074 |\n",
      "|         6 | 16:50:56.5 |   -1.30000 |  97116.100 |\n",
      "|         7 | 16:50:56.7 |   -1.28000 |  71213.881 |\n",
      "|         8 | 16:50:56.9 |   -1.27000 |  56390.688 |\n",
      "|         9 | 16:50:57.1 |   -1.25000 |  32228.155 |\n",
      "|        10 | 16:50:57.3 |   -1.23000 |  17329.384 |\n",
      "+-----------+------------+------------+------------+\n",
      "generator TuneAxis.multi_pass_tune ['cda248cc'] (scan num: 3)\n",
      "x : m1\n",
      "y : spvoigt\n",
      "cen : -1.3084740608070882\n",
      "com : -1.308599812688434\n",
      "fwhm : 0.07690873008453192\n",
      "min : [ -1.39000000e+00   1.57236669e+04]\n",
      "max : [ -1.30000000e+00   9.71160999e+04]\n",
      "crossings : [-1.34692843 -1.2700197 ]\n",
      "tune_ok : True\n",
      "center : -1.3084740608070882\n",
      "initial_position : -1.31\n",
      "final_position : -1.3084740608070882\n",
      "+-----------+------------+------------+------------+\n",
      "|   seq_num |       time |         m1 |    spvoigt |\n",
      "+-----------+------------+------------+------------+\n",
      "|         1 | 16:50:57.9 |   -1.29000 |  85929.441 |\n",
      "|         2 | 16:50:58.0 |   -1.29000 |  85929.441 |\n",
      "|         3 | 16:50:58.0 |   -1.30000 |  97116.100 |\n",
      "|         4 | 16:50:58.0 |   -1.30000 |  97116.100 |\n",
      "|         5 | 16:50:58.1 |   -1.31000 | 100432.739 |\n",
      "|         6 | 16:50:58.1 |   -1.31000 | 100432.739 |\n",
      "|         7 | 16:50:58.2 |   -1.32000 |  94231.074 |\n",
      "|         8 | 16:50:58.2 |   -1.32000 |  94231.074 |\n",
      "|         9 | 16:50:58.3 |   -1.33000 |  81451.638 |\n",
      "|        10 | 16:50:58.3 |   -1.33000 |  81451.638 |\n",
      "+-----------+------------+------------+------------+\n",
      "generator TuneAxis.multi_pass_tune ['5dd62793'] (scan num: 4)\n",
      "x : m1\n",
      "y : spvoigt\n",
      "cen : -1.3085272905901655\n",
      "com : -1.31\n",
      "fwhm : 0.02809257141009902\n",
      "min : [ -1.33000000e+00   8.14516381e+04]\n",
      "max : [ -1.31000000e+00   1.00432739e+05]\n",
      "crossings : [-1.294481   -1.32257358]\n",
      "tune_ok : False\n",
      "center : -1.3084740608070882\n",
      "initial_position : -1.31\n",
      "final_position : -1.31\n"
     ]
    },
    {
     "data": {
      "text/plain": [
       "('6e2ddcf1-906e-49de-90eb-dc5f44d535eb',\n",
       " '221fbd1f-562c-44d8-babe-74c555111edf',\n",
       " 'cda248cc-58c0-4212-91ec-23f7034da210',\n",
       " '5dd62793-496a-4983-8f25-e08c3c13c11c')"
      ]
     },
     "execution_count": 10,
     "metadata": {},
     "output_type": "execute_result"
    }
   ],
   "source": [
    "RE(tuner.multi_pass_tune(), live_table, md=md)"
   ]
  },
  {
   "cell_type": "markdown",
   "metadata": {},
   "source": [
    "Show the results from the multi-pass tuning."
   ]
  },
  {
   "cell_type": "code",
   "execution_count": 11,
   "metadata": {},
   "outputs": [
    {
     "name": "stdout",
     "output_type": "stream",
     "text": [
      "final:  -1.30847406081\n",
      "max (-1.3100000000000001, 100432.73883675525)\n",
      "min (-1.3300000000000001, 81451.638145309073)\n",
      "-- -1.35850867531 0.288031258486\n",
      "-- -1.31155612165 0.110171766685\n",
      "-- -1.30847406081 0.0769087300845\n",
      "-- -1.30852729059 0.0280925714101\n",
      "m1= -1.31  det= 81451.6381453\n"
     ]
    }
   ],
   "source": [
    "print(\"final: \", tuner.center)\n",
    "print(\"max\", tuner.peaks.max)\n",
    "print(\"min\", tuner.peaks.min)\n",
    "for stat in tuner.stats:\n",
    "    print(\"--\", stat.cen, stat.fwhm)\n",
    "print(\"m1=\", m1.position, \"\", \"det=\", spvoigt.value)"
   ]
  },
  {
   "cell_type": "markdown",
   "metadata": {},
   "source": [
    "Compare the final position (just printed) with the expected value shown a couple steps back."
   ]
  },
  {
   "cell_type": "markdown",
   "metadata": {},
   "source": [
    "## Single-pass tune\n",
    "\n",
    "Repeat but with only one pass.  Reset the motor to the starting position and increase the number of steps by a factor of three."
   ]
  },
  {
   "cell_type": "code",
   "execution_count": 12,
   "metadata": {},
   "outputs": [
    {
     "name": "stdout",
     "output_type": "stream",
     "text": [
      "+-----------+------------+------------+------------+\n",
      "|   seq_num |       time |         m1 |    spvoigt |\n",
      "+-----------+------------+------------+------------+\n",
      "|         1 | 16:51:00.6 |   -2.75000 |    597.691 |\n",
      "|         2 | 16:51:00.9 |   -2.66000 |    603.049 |\n",
      "|         3 | 16:51:01.2 |   -2.58000 |    608.797 |\n",
      "|         4 | 16:51:01.5 |   -2.49000 |    616.707 |\n",
      "|         5 | 16:51:01.8 |   -2.41000 |    625.425 |\n",
      "|         6 | 16:51:02.1 |   -2.32000 |    637.804 |\n",
      "|         7 | 16:51:02.4 |   -2.23000 |    653.975 |\n",
      "|         8 | 16:51:02.7 |   -2.15000 |    672.905 |\n",
      "|         9 | 16:51:03.0 |   -2.06000 |    701.811 |\n",
      "|        10 | 16:51:03.3 |   -1.97000 |    743.247 |\n",
      "|        11 | 16:51:03.6 |   -1.89000 |    797.261 |\n",
      "|        12 | 16:51:03.9 |   -1.80000 |    892.005 |\n",
      "|        13 | 16:51:04.2 |   -1.72000 |   1032.892 |\n",
      "|        14 | 16:51:04.5 |   -1.63000 |   1331.051 |\n",
      "|        15 | 16:51:04.8 |   -1.54000 |   2028.211 |\n",
      "|        16 | 16:51:05.1 |   -1.46000 |   3891.471 |\n",
      "|        17 | 16:51:05.4 |   -1.37000 |  29265.412 |\n",
      "|        18 | 16:51:05.7 |   -1.28000 |  71213.881 |\n",
      "|        19 | 16:51:06.0 |   -1.20000 |   7648.022 |\n",
      "|        20 | 16:51:06.3 |   -1.11000 |   2540.828 |\n",
      "|        21 | 16:51:06.6 |   -1.03000 |   1584.134 |\n",
      "|        22 | 16:51:06.9 |   -0.94000 |   1149.212 |\n",
      "|        23 | 16:51:07.2 |   -0.85000 |    941.616 |\n",
      "|        24 | 16:51:07.5 |   -0.77000 |    836.835 |\n",
      "|        25 | 16:51:07.8 |   -0.68000 |    763.162 |\n",
      "|        26 | 16:51:08.1 |   -0.59000 |    715.288 |\n",
      "|        27 | 16:51:08.4 |   -0.51000 |    685.556 |\n",
      "|        28 | 16:51:08.7 |   -0.42000 |    661.206 |\n",
      "|        29 | 16:51:09.0 |   -0.34000 |    644.999 |\n",
      "|        30 | 16:51:09.4 |   -0.25000 |    630.969 |\n",
      "+-----------+------------+------------+------------+\n",
      "generator TuneAxis.tune ['e2fd6389'] (scan num: 5)\n",
      "x : m1\n",
      "y : spvoigt\n",
      "cen : -1.295658297907699\n",
      "com : -1.328926028749668\n",
      "fwhm : 0.12018970048940036\n",
      "min : [  -2.75        597.69056825]\n",
      "max : [ -1.28000000e+00   7.12138807e+04]\n",
      "crossings : [-1.35575315 -1.23556345]\n",
      "tune_ok : True\n",
      "center : -1.295658297907699\n",
      "initial_position : -1.5\n",
      "final_position : -1.295658297907699\n"
     ]
    },
    {
     "data": {
      "text/plain": [
       "('e2fd6389-e617-4db5-a7b6-13b80a641e7d',)"
      ]
     },
     "execution_count": 12,
     "metadata": {},
     "output_type": "execute_result"
    }
   ],
   "source": [
    "m1.move(starting_position)\n",
    "tuner.num *= 3\n",
    "RE(tuner.tune(), live_table, md=md)"
   ]
  },
  {
   "cell_type": "markdown",
   "metadata": {},
   "source": [
    "Compare the single-pass scan with the previous multi-pass scan.  Each used the same number of points overall.  \n",
    "\n",
    "The results are comparable but we already knew the position of the peak approximately."
   ]
  },
  {
   "cell_type": "code",
   "execution_count": 13,
   "metadata": {},
   "outputs": [
    {
     "name": "stdout",
     "output_type": "stream",
     "text": [
      "final:  -1.29565829791\n",
      "max (-1.28, 71213.880680860384)\n",
      "min (-2.75, 597.6905682482369)\n",
      "centroid -1.29565829791\n",
      "FWHM 0.120189700489\n",
      "m1= -1.3  det= 630.969061811\n"
     ]
    }
   ],
   "source": [
    "print(\"final: \", tuner.center)\n",
    "print(\"max\", tuner.peaks.max)\n",
    "print(\"min\", tuner.peaks.min)\n",
    "print(\"centroid\", tuner.peaks.cen)\n",
    "print(\"FWHM\", tuner.peaks.fwhm)\n",
    "print(\"m1=\", m1.position, \"\", \"det=\", spvoigt.value)"
   ]
  }
 ],
 "metadata": {
  "kernelspec": {
   "display_name": "Python 3",
   "language": "python",
   "name": "python3"
  },
  "language_info": {
   "codemirror_mode": {
    "name": "ipython",
    "version": 3
   },
   "file_extension": ".py",
   "mimetype": "text/x-python",
   "name": "python",
   "nbconvert_exporter": "python",
   "pygments_lexer": "ipython3",
   "version": "3.6.6"
  }
 },
 "nbformat": 4,
 "nbformat_minor": 2
}
