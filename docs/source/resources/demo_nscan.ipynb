{
 "cells": [
  {
   "cell_type": "markdown",
   "metadata": {},
   "source": [
    "# Demonstrate ``nscan``\n",
    "\n",
    "In this example, we demonstrate the `apstools.plans.nscan()` plan.  The `nscan()` plan scans over ``n`` variables moved together, each in equally spaced steps.\n",
    "\n",
    "Here, we scan two motors together, each in equally spaced steps.  We use an [`swait`](https://htmlpreview.github.io/?https://raw.githubusercontent.com/epics-modules/calc/R3-6-1/documentation/swaitRecord.html) record (part of the *userCalc* support from synApps) as a detector.  We configure the `swait` record with a calculation (from `apstools.plans.swait_setup_random_number()`) that computes a noisy (random number) signal.  \n",
    "\n",
    "For this demo, we do not need the databroker since we do not plan to review any of this data after collection.  We'll display the data during the scan using the *LiveTable()* code."
   ]
  },
  {
   "cell_type": "code",
   "execution_count": 1,
   "metadata": {},
   "outputs": [],
   "source": [
    "from ophyd import EpicsMotor\n",
    "from bluesky.callbacks import LiveTable\n",
    "from apstools.synApps_ophyd import swaitRecord, swait_setup_random_number\n",
    "from apstools.plans import nscan\n",
    "\n",
    "from bluesky import RunEngine\n",
    "RE = RunEngine({})"
   ]
  },
  {
   "cell_type": "markdown",
   "metadata": {},
   "source": [
    "Figure out which workstation we are running.  The *mint-vm* host has a different IOC prefix."
   ]
  },
  {
   "cell_type": "code",
   "execution_count": 2,
   "metadata": {},
   "outputs": [],
   "source": [
    "import socket\n",
    "if socket.gethostname().find(\"mint-vm\") >= 0:\n",
    "    prefix = \"vm7:\"\n",
    "else:\n",
    "    prefix = \"xxx:\""
   ]
  },
  {
   "cell_type": "markdown",
   "metadata": {},
   "source": [
    "Connect to our motors and create the *noisy* detector."
   ]
  },
  {
   "cell_type": "code",
   "execution_count": 3,
   "metadata": {},
   "outputs": [],
   "source": [
    "m1 = EpicsMotor(prefix+\"m1\", name=\"m1\")\n",
    "m2 = EpicsMotor(prefix+\"m2\", name=\"m2\")\n",
    "noisy = swaitRecord(prefix+\"userCalc1\", name=\"noisy\")\n",
    "# configure the *detector* as a random number generator using a calculation.\n",
    "swait_setup_random_number(noisy)"
   ]
  },
  {
   "cell_type": "markdown",
   "metadata": {},
   "source": [
    "Measure the noisy detector while step scanning both the m1 & m2 motors together.  We'll move m2 twice as far as m1, like a $\\theta$-$2\\theta$ scan on a diffractometer."
   ]
  },
  {
   "cell_type": "code",
   "execution_count": 4,
   "metadata": {},
   "outputs": [
    {
     "name": "stdout",
     "output_type": "stream",
     "text": [
      "+-----------+------------+------------+------------+------------+\n",
      "|   seq_num |       time |         m1 |         m2 |  noisy_val |\n",
      "+-----------+------------+------------+------------+------------+\n",
      "|         1 | 15:43:39.7 |    2.00000 |    4.00000 |    0.00000 |\n",
      "|         2 | 15:43:40.8 |    1.60000 |    3.20000 |    0.00000 |\n",
      "|         3 | 15:43:41.9 |    1.20000 |    2.40000 |    0.00000 |\n",
      "|         4 | 15:43:43.0 |    0.80000 |    1.60000 |    0.00000 |\n",
      "|         5 | 15:43:44.2 |    0.40000 |    0.80000 |    0.00000 |\n",
      "|         6 | 15:43:45.2 |    0.00000 |    0.00000 |    0.00000 |\n",
      "+-----------+------------+------------+------------+------------+\n",
      "generator nscan ['09e401ce'] (scan num: 1)\n"
     ]
    },
    {
     "data": {
      "text/plain": [
       "('09e401ce-f4de-4230-af83-ed893a2c8184',)"
      ]
     },
     "execution_count": 4,
     "metadata": {},
     "output_type": "execute_result"
    }
   ],
   "source": [
    "RE(\n",
    "    nscan([noisy, ], m1, 2, 0, m2, 4, 0, num=6),\n",
    "    LiveTable([\"m1\", \"m2\", \"noisy_val\"])\n",
    "    )"
   ]
  }
 ],
 "metadata": {
  "kernelspec": {
   "display_name": "Python 3",
   "language": "python",
   "name": "python3"
  },
  "language_info": {
   "codemirror_mode": {
    "name": "ipython",
    "version": 3
   },
   "file_extension": ".py",
   "mimetype": "text/x-python",
   "name": "python",
   "nbconvert_exporter": "python",
   "pygments_lexer": "ipython3",
   "version": "3.6.6"
  }
 },
 "nbformat": 4,
 "nbformat_minor": 2
}
