{
 "cells": [
  {
   "cell_type": "markdown",
   "metadata": {},
   "source": [
    "# Demonstrate ``nscan``\n",
    "\n",
    "Scan two motors together, each in equally spaced steps"
   ]
  },
  {
   "cell_type": "code",
   "execution_count": 13,
   "metadata": {},
   "outputs": [],
   "source": [
    "from bluesky.callbacks import LiveTable\n",
    "from ophyd import EpicsMotor\n",
    "from APS_BlueSky_tools.synApps_ophyd import swaitRecord, swait_setup_random_number\n",
    "from APS_BlueSky_tools.plans import nscan\n",
    "import numpy as np\n",
    "\n",
    "from databroker import Broker\n",
    "# load config from ~/.config/databroker/mongodb_config.yml\n",
    "db = Broker.named(\"mongodb_config\")\n",
    "\n",
    "from bluesky import RunEngine\n",
    "RE = RunEngine({})"
   ]
  },
  {
   "cell_type": "code",
   "execution_count": 7,
   "metadata": {},
   "outputs": [],
   "source": [
    "import socket\n",
    "if socket.gethostname().find(\"mint-vm\") >= 0:\n",
    "    prefix = \"prj:\"\n",
    "else:\n",
    "    prefix = \"xxx:\""
   ]
  },
  {
   "cell_type": "code",
   "execution_count": 14,
   "metadata": {},
   "outputs": [],
   "source": [
    "prefix = \"prj:\"\n",
    "m1 = EpicsMotor(prefix+\"m1\", name=\"m1\")\n",
    "m2 = EpicsMotor(prefix+\"m2\", name=\"m2\")\n",
    "noisy = swaitRecord(prefix+\"userCalc1\", name=\"noisy\")\n",
    "# noisy.read_attrs = [\"value\"]\n",
    "swait_setup_random_number(noisy)"
   ]
  },
  {
   "cell_type": "code",
   "execution_count": 15,
   "metadata": {},
   "outputs": [
    {
     "name": "stdout",
     "output_type": "stream",
     "text": [
      "+-----------+------------+------------+------------+------------+\n",
      "|   seq_num |       time |         m1 |         m2 |  noisy_val |\n",
      "+-----------+------------+------------+------------+------------+\n",
      "|         1 | 18:39:25.1 |   -1.00000 |   -2.00000 |    0.64440 |\n",
      "|         2 | 18:39:25.8 |   -0.80000 |   -1.60000 |    0.80444 |\n",
      "|         3 | 18:39:26.5 |   -0.60000 |   -1.20000 |    0.53562 |\n",
      "|         4 | 18:39:27.2 |   -0.40000 |   -0.80000 |    0.70547 |\n",
      "|         5 | 18:39:27.9 |   -0.20000 |   -0.40000 |    0.24537 |\n",
      "|         6 | 18:39:28.6 |    0.00000 |    0.00000 |    0.56622 |\n",
      "+-----------+------------+------------+------------+------------+\n",
      "generator nscan ['490897c6'] (scan num: 1)\n"
     ]
    },
    {
     "data": {
      "text/plain": [
       "('490897c6-f5be-40bc-a5ec-8e7d3c0e6e00',)"
      ]
     },
     "execution_count": 15,
     "metadata": {},
     "output_type": "execute_result"
    }
   ],
   "source": [
    "RE(\n",
    "    nscan([noisy, ], m1, -1, 0, m2, -2, 0, num=6),\n",
    "    LiveTable([\"m1\", \"m2\", \"noisy_val\"])\n",
    "    )"
   ]
  }
 ],
 "metadata": {
  "kernelspec": {
   "display_name": "Python 3",
   "language": "python",
   "name": "python3"
  },
  "language_info": {
   "codemirror_mode": {
    "name": "ipython",
    "version": 3
   },
   "file_extension": ".py",
   "mimetype": "text/x-python",
   "name": "python",
   "nbconvert_exporter": "python",
   "pygments_lexer": "ipython3",
   "version": "3.6.6"
  }
 },
 "nbformat": 4,
 "nbformat_minor": 2
}
