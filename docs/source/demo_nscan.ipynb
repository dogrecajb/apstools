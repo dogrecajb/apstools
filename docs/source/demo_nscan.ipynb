{
 "cells": [
  {
   "cell_type": "markdown",
   "metadata": {},
   "source": [
    "# Demonstrate ``nscan``\n",
    "\n",
    "In this example, we demonstrate the `APS_BlueSky_tools.plans.nscan()` plan.  The `nscan()` plan scans over ``n`` variables moved together, each in equally spaced steps.\n",
    "\n",
    "Here, we scan two motors together, each in equally spaced steps.  We use an [`swait`](https://htmlpreview.github.io/?https://raw.githubusercontent.com/epics-modules/calc/R3-6-1/documentation/swaitRecord.html) record (part of the *userCalc* support from synApps) as a detector.  We configure the `swait` record with a calculation (from `APS_BlueSky_tools.plans.swait_setup_random_number()`) that computes a noisy (random number) signal.  \n",
    "\n",
    "For this demo, we do not need the databroker since we do not plan to review any of this data after collection.  We'll display the data during the scan using the *LiveTable()* code."
   ]
  },
  {
   "cell_type": "code",
   "execution_count": 1,
   "metadata": {},
   "outputs": [],
   "source": [
    "from ophyd import EpicsMotor\n",
    "from bluesky.callbacks import LiveTable\n",
    "from APS_BlueSky_tools.synApps_ophyd import swaitRecord, swait_setup_random_number\n",
    "from APS_BlueSky_tools.plans import nscan\n",
    "\n",
    "from bluesky import RunEngine\n",
    "RE = RunEngine({})"
   ]
  },
  {
   "cell_type": "markdown",
   "metadata": {},
   "source": [
    "Figure out which workstation we are running.  The *mint-vm* host has a different IOC prefix."
   ]
  },
  {
   "cell_type": "code",
   "execution_count": 2,
   "metadata": {},
   "outputs": [],
   "source": [
    "import socket\n",
    "if socket.gethostname().find(\"mint-vm\") >= 0:\n",
    "    prefix = \"prj:\"\n",
    "else:\n",
    "    prefix = \"xxx:\""
   ]
  },
  {
   "cell_type": "markdown",
   "metadata": {},
   "source": [
    "Connect to our motors and create the *noisy* detector."
   ]
  },
  {
   "cell_type": "code",
   "execution_count": 3,
   "metadata": {},
   "outputs": [],
   "source": [
    "m1 = EpicsMotor(prefix+\"m1\", name=\"m1\")\n",
    "m2 = EpicsMotor(prefix+\"m2\", name=\"m2\")\n",
    "noisy = swaitRecord(prefix+\"userCalc1\", name=\"noisy\")\n",
    "# configure the *detector* as a randome number generator using a calculation.\n",
    "swait_setup_random_number(noisy)"
   ]
  },
  {
   "cell_type": "markdown",
   "metadata": {},
   "source": [
    "Measure the noisy detector while step scanning both the m1 & m2 motors together.  We'll move m2 twice as far as m1, like a $\\theta$-$2\\theta$ scan on a diffractometer."
   ]
  },
  {
   "cell_type": "code",
   "execution_count": 4,
   "metadata": {},
   "outputs": [
    {
     "name": "stdout",
     "output_type": "stream",
     "text": [
      "+-----------+------------+------------+------------+------------+\n",
      "|   seq_num |       time |         m1 |         m2 |  noisy_val |\n",
      "+-----------+------------+------------+------------+------------+\n",
      "|         1 | 23:03:18.2 |    2.00000 |    4.00000 |    0.09358 |\n",
      "|         2 | 23:03:19.3 |    1.60000 |    3.20000 |    0.08852 |\n",
      "|         3 | 23:03:20.4 |    1.20000 |    2.40000 |    0.83223 |\n",
      "|         4 | 23:03:21.5 |    0.80000 |    1.60000 |    0.40227 |\n",
      "|         5 | 23:03:22.6 |    0.40000 |    0.80000 |    0.51035 |\n",
      "|         6 | 23:03:23.7 |    0.00000 |    0.00000 |    0.33980 |\n",
      "+-----------+------------+------------+------------+------------+\n",
      "generator nscan ['ebe6c9e1'] (scan num: 1)\n"
     ]
    },
    {
     "data": {
      "text/plain": [
       "('ebe6c9e1-74be-4967-87f0-23272ad2e81d',)"
      ]
     },
     "execution_count": 4,
     "metadata": {},
     "output_type": "execute_result"
    }
   ],
   "source": [
    "RE(\n",
    "    nscan([noisy, ], m1, 2, 0, m2, 4, 0, num=6),\n",
    "    LiveTable([\"m1\", \"m2\", \"noisy_val\"])\n",
    "    )"
   ]
  }
 ],
 "metadata": {
  "kernelspec": {
   "display_name": "Python 3",
   "language": "python",
   "name": "python3"
  },
  "language_info": {
   "codemirror_mode": {
    "name": "ipython",
    "version": 3
   },
   "file_extension": ".py",
   "mimetype": "text/x-python",
   "name": "python",
   "nbconvert_exporter": "python",
   "pygments_lexer": "ipython3",
   "version": "3.6.6"
  }
 },
 "nbformat": 4,
 "nbformat_minor": 2
}
