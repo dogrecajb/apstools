{
 "cells": [
  {
   "cell_type": "markdown",
   "metadata": {},
   "source": [
    "# sscan as Flyer\n",
    "\n",
    "## 1D step scans using sscan record\n",
    "\n",
    "Use the [sscan record](https://epics.anl.gov/bcda/synApps/sscan/sscanRecord.html) as an [ophyd Flyer](http://nsls-ii.github.io/bluesky/async.html) for [bluesky](http://nsls-ii.github.io/bluesky) data acquisition.  Consider the case of [1D step scans using sscan record](https://epics.anl.gov/bcda/synApps/sscan/sscanRecord.html#HEADING_1-1)."
   ]
  },
  {
   "cell_type": "code",
   "execution_count": null,
   "metadata": {},
   "outputs": [],
   "source": [
    "import asyncio\n",
    "from collections import deque, OrderedDict\n",
    "import numpy as np\n",
    "import time\n",
    "\n",
    "%matplotlib notebook\n",
    "from bluesky.utils import install_qt_kicker\n",
    "install_qt_kicker()\n",
    "\n",
    "# common IOC prefix to be used\n",
    "P = \"prj:\""
   ]
  },
  {
   "cell_type": "code",
   "execution_count": null,
   "metadata": {},
   "outputs": [],
   "source": [
    "from ophyd.scaler import ScalerCH\n",
    "scaler = ScalerCH(f\"{P}scaler1\", name=\"scaler\")\n",
    "scaler.select_channels(None)"
   ]
  },
  {
   "cell_type": "code",
   "execution_count": null,
   "metadata": {},
   "outputs": [],
   "source": [
    "from ophyd import EpicsMotor\n",
    "m1 = EpicsMotor(f\"{P}m1\", name=\"m1\")"
   ]
  },
  {
   "cell_type": "code",
   "execution_count": null,
   "metadata": {},
   "outputs": [],
   "source": [
    "from apstools.synApps_ophyd import userCalcsDevice\n",
    "calcs = userCalcsDevice(P, name=\"calcs\")"
   ]
  },
  {
   "cell_type": "code",
   "execution_count": null,
   "metadata": {},
   "outputs": [],
   "source": [
    "from apstools.synApps_ophyd import sscanDevice\n",
    "scans = sscanDevice(P, name=\"scans\")\n",
    "scans.select_channels()"
   ]
  },
  {
   "cell_type": "code",
   "execution_count": null,
   "metadata": {},
   "outputs": [],
   "source": [
    "from apstools.synApps_ophyd import SaveData\n",
    "save_data = SaveData(f\"{P}saveData_\", name=\"save_data\")"
   ]
  },
  {
   "cell_type": "code",
   "execution_count": null,
   "metadata": {},
   "outputs": [],
   "source": [
    "# configure saveData for data collection into MDA files:\n",
    "        \n",
    "save_data.file_system.put(\"/tmp\")\n",
    "save_data.subdirectory.put(\"saveData\")\n",
    "save_data.base_name.put(\"sscan1_\")\n",
    "save_data.next_scan_number.put(1)\n",
    "save_data.comment1.put(\"testing\")\n",
    "save_data.comment2.put(\"configured and run from ophyd\")"
   ]
  },
  {
   "cell_type": "code",
   "execution_count": null,
   "metadata": {},
   "outputs": [],
   "source": [
    "# configure the sscan record for data collection:\n",
    "\n",
    "# clear out the weeds\n",
    "scans.reset()\n",
    "\n",
    "scan = scans.scan1\n",
    "scan.number_points.put(6)\n",
    "scan.positioners.p1.setpoint_pv.put(m1.user_setpoint.pvname)\n",
    "scan.positioners.p1.readback_pv.put(m1.user_readback.pvname)\n",
    "scan.positioners.p1.start.put(-1)\n",
    "scan.positioners.p1.end.put(0)\n",
    "scan.positioner_delay.put(0.0)\n",
    "scan.detector_delay.put(0.1)\n",
    "scan.detectors.d01.input_pv.put(scaler.channels.chan03.s.pvname)\n",
    "scan.detectors.d02.input_pv.put(scaler.channels.chan02.s.pvname)\n",
    "scan.triggers.t1.trigger_pv.put(scaler.count.pvname)\n",
    "\n",
    "# finally, reconfigure\n",
    "scans.select_channels()"
   ]
  },
  {
   "cell_type": "code",
   "execution_count": null,
   "metadata": {},
   "outputs": [],
   "source": [
    "# make a noisy detector in an EPICS swait record, peak ceneter at 2\n",
    "from apstools.synApps_ophyd import swait_setup_lorentzian\n",
    "swait_setup_lorentzian(calcs.calc2, m1, 2)\n",
    "noisy_det = calcs.calc2.val\n",
    "noisy_det.kind = \"hinted\""
   ]
  },
  {
   "cell_type": "code",
   "execution_count": null,
   "metadata": {
    "scrolled": true
   },
   "outputs": [],
   "source": [
    "def ophyd_step_scan(motor):\n",
    "    \"\"\"step-scan the motor and read the noisy detector\"\"\"\n",
    "    t0 = time.time()\n",
    "    for p in range(10):\n",
    "        motor.move(p-3)\n",
    "        print(\n",
    "            \"%8.3f\" % (time.time()-t0), \n",
    "            \"%8.2f\" % motor.position, \n",
    "            \"%8.4f\" % noisy_det.get()\n",
    "             )\n",
    "    motor.move(0)\n",
    "    print(\"Complete in %.3f seconds\" % (time.time()-t0))\n",
    "\n",
    "# ophyd_step_scan(m1)"
   ]
  },
  {
   "cell_type": "markdown",
   "metadata": {},
   "source": [
    "--------\n",
    "## setup Bluesky, databroker, and the RunEngine"
   ]
  },
  {
   "cell_type": "code",
   "execution_count": null,
   "metadata": {},
   "outputs": [],
   "source": [
    "from databroker import Broker\n",
    "db = Broker.named(\"mongodb_config\")"
   ]
  },
  {
   "cell_type": "code",
   "execution_count": null,
   "metadata": {},
   "outputs": [],
   "source": [
    "from bluesky import RunEngine\n",
    "import bluesky.plans as bp\n",
    "from bluesky.callbacks.best_effort import BestEffortCallback\n",
    "from bluesky import SupplementalData\n",
    "\n",
    "RE = RunEngine({})\n",
    "RE.subscribe(db.insert)\n",
    "RE.subscribe(BestEffortCallback())\n",
    "RE.preprocessors.append(SupplementalData())"
   ]
  },
  {
   "cell_type": "markdown",
   "metadata": {},
   "source": [
    "simple step scan using bluesky plan"
   ]
  },
  {
   "cell_type": "code",
   "execution_count": null,
   "metadata": {
    "scrolled": true
   },
   "outputs": [],
   "source": [
    "# RE(bp.scan([noisy_det], m1, -5, 5, 11))"
   ]
  },
  {
   "cell_type": "markdown",
   "metadata": {},
   "source": [
    "-------------------------\n",
    "\n",
    "# Start to build our own Flyer"
   ]
  },
  {
   "cell_type": "code",
   "execution_count": null,
   "metadata": {},
   "outputs": [],
   "source": [
    "import ophyd\n",
    "import bluesky\n",
    "import threading\n",
    "import logging\n",
    "\n",
    "logger = logging.getLogger()\n",
    "\n",
    "class MyFlyer(ophyd.Device):\n",
    "    \"\"\"\n",
    "    starting template for a Flyer that we understand\n",
    "    \"\"\"\n",
    "\n",
    "    def __init__(self, sscan, motor, detectors, triggers, first, last, npts, **kwargs):\n",
    "        super().__init__('', parent=None, **kwargs)\n",
    "\n",
    "        self.sscan = sscan\n",
    "        self.motor = motor\n",
    "        self.detectors = detectors\n",
    "        self.triggers = triggers\n",
    "        self.first = first\n",
    "        self.last = last\n",
    "        self.num_points = npts\n",
    "        self.positioner_delay = 0.0\n",
    "        self.detector_delay = 0.1\n",
    "        self.scan_data_objects = None\n",
    "        self.last_point = None\n",
    "\n",
    "        self.complete_status = None\n",
    "        self.t0 = 0\n",
    "        \n",
    "        self.sscan_init()\n",
    "\n",
    "    def sscan_init(self):\n",
    "        \"\"\"\n",
    "        init the sscan record\n",
    "        \n",
    "        It's OK to use blocking calls here \n",
    "        since this is called in a separate thread\n",
    "        from the BlueSky RunEngine.\n",
    "        \"\"\"\n",
    "        logger.info(\"sscan_init()\")\n",
    "\n",
    "        scan = self.sscan\n",
    "        scan.reset()\n",
    "\n",
    "        scan.positioners.p1.setpoint_pv.put(self.motor.user_setpoint.pvname)\n",
    "        scan.positioners.p1.readback_pv.put(self.motor.user_readback.pvname)\n",
    "\n",
    "        scan.detector_delay.put(self.detector_delay)\n",
    "        for i, d in enumerate(self.detectors):\n",
    "            getattr(scan.detectors, \"d%02d\" % (i+1)).input_pv.put(d.pvname)\n",
    "\n",
    "        for i, t in enumerate(self.triggers):\n",
    "            getattr(scan.triggers, \"t%d\" % (i+1)).trigger_pv.put(t.pvname)\n",
    "        \n",
    "        # reconfigure the ophyd object for only the channels in use\n",
    "        scan.select_channels()\n",
    "\n",
    "        # do this now so describe_collect() and collect() can be tested\n",
    "        self.scan_data_objects = self.identify_data_objects()\n",
    "\n",
    "    def sscan_prep(self):\n",
    "        \"\"\"\n",
    "        prep the sscan record\n",
    "        \n",
    "        It's OK to use blocking calls here \n",
    "        since this is called in a separate thread\n",
    "        from the BlueSky RunEngine.\n",
    "        \"\"\"\n",
    "        logger.info(\"sscan_prep()\")\n",
    "\n",
    "        scan = self.sscan\n",
    "\n",
    "        scan.positioner_delay.put(self.positioner_delay)\n",
    "        scan.positioners.p1.start.put(self.first)\n",
    "        scan.positioners.p1.end.put(self.last)\n",
    "        scan.number_points.put(self.num_points)\n",
    "\n",
    "    def identify_data_objects(self):\n",
    "        \"\"\"\n",
    "        prepare a dictionary of the \"interesting\" ophyd data objects for this scan\n",
    "        \"\"\"\n",
    "        scan = self.sscan\n",
    "        scan_data_objects = OrderedDict()\n",
    "        for part in (scan.positioners, scan.detectors):\n",
    "            for chname in part.read_attrs:\n",
    "                if not chname.endswith(\"_value\"):\n",
    "                    continue\n",
    "                obj = getattr(part, chname)\n",
    "                key = obj.name.lstrip(scan.name + \"_\")\n",
    "                scan_data_objects[key] = obj\n",
    "        return scan_data_objects\n",
    "\n",
    "    def my_activity(self):\n",
    "        \"\"\"\n",
    "        start the \"fly scan\" here, could wait for completion\n",
    "        \n",
    "        It's OK to use blocking calls here \n",
    "        since this is called in a separate thread\n",
    "        from the BlueSky RunEngine.\n",
    "        \"\"\"\n",
    "        logger.info(\"my_activity()\")\n",
    "        if self.complete_status is None:\n",
    "            logger.info(\"leaving activity() - not complete\")\n",
    "            return\n",
    "        \n",
    "        # do the activity here\n",
    "        self.sscan_prep()\n",
    "        \n",
    "        # finally, start the sscan record\n",
    "        scan.execute_scan.put(1)\n",
    "        \n",
    "        self.last_point = scan.current_point.get()\n",
    "        \n",
    "        # once started, we notify by updating the status object\n",
    "        self.kickoff_status._finished(success=True)\n",
    "\n",
    "    def kickoff(self):\n",
    "        \"\"\"\n",
    "        Start this Flyer\n",
    "        \"\"\"\n",
    "        logger.info(\"kickoff()\")\n",
    "        self.kickoff_status = ophyd.DeviceStatus(self)\n",
    "        self.complete_status = ophyd.DeviceStatus(self)\n",
    "        \n",
    "        thread = threading.Thread(target=self.my_activity, daemon=True)\n",
    "\n",
    "        self.t0 = time.time()\n",
    "        thread.start()\n",
    "        return self.kickoff_status\n",
    "\n",
    "    def complete(self):\n",
    "        \"\"\"\n",
    "        Wait for flying to be complete\n",
    "        \"\"\"\n",
    "        logger.info(\"complete()\")\n",
    "        if self.complete_status is None:\n",
    "            # raise RuntimeError(\"No collection in progress\")\n",
    "            logger.info(\"No collection in progress\")\n",
    "\n",
    "        return self.complete_status\n",
    "\n",
    "    def describe_collect(self):\n",
    "        \"\"\"\n",
    "        Describe details for ``collect()`` method\n",
    "        \"\"\"\n",
    "        logger.info(\"describe_collect()\")\n",
    "\n",
    "        stream = OrderedDict()\n",
    "        for key, item in self.scan_data_objects.items():\n",
    "            stream[key] = dict(\n",
    "                source = item.name,\n",
    "                dtype = \"number\",\n",
    "                shape = (1,)\n",
    "            )\n",
    "        return {\"primary\" : stream}\n",
    "\n",
    "    def collect(self):\n",
    "        \"\"\"\n",
    "        Get data from this Flyer (after scan is complete)\n",
    "        \n",
    "        yield events for each row in the data\n",
    "        \"\"\"\n",
    "        logger.info(\"collect()\")\n",
    "        scan = self.sscan\n",
    "        print(\"collect() started\")\n",
    "        # FIXME: never called - this algorithm needs change\n",
    "\n",
    "        # wait/watch for completion\n",
    "        while True:\n",
    "            current_point = scan.current_point.get()\n",
    "            if self.last_point != current_point and current_point > 0:\n",
    "                t = time.time()\n",
    "                elapsed = t - self.t0\n",
    "                print(f\"collection: {elapsed}\")\n",
    "\n",
    "                dstream = OrderedDict()\n",
    "                tstream = OrderedDict()\n",
    "                for key, item in self.scan_data_objects.items():\n",
    "                    dd = list(item.read().values())[0]\n",
    "                    dstream[key] = dd[\"value\"]\n",
    "                    tstream[key] = dd[\"timestamp\"]\n",
    "\n",
    "                yield dict(\n",
    "                    time=t,\n",
    "                    data=dstream,\n",
    "                    timestamps=tstream\n",
    "                )\n",
    "            self.last_point = current_point\n",
    "            # data acquisition steps come *before* the exit\n",
    "            if scan.scan_phase.get() in (0, \"IDLE\"):\n",
    "                break\n",
    "            time.sleep(0.001) \n",
    "    \n",
    "        # after the wait, we declare victory\n",
    "        if self.complete_status is None:\n",
    "            logger.info(f\"complete, scan was not run - must be testing phase\")\n",
    "        else:\n",
    "            self.complete_status._finished(success=True)\n",
    "            logger.info(f\"activity() complete. status = {self.complete_status}\")"
   ]
  },
  {
   "cell_type": "code",
   "execution_count": null,
   "metadata": {},
   "outputs": [],
   "source": [
    "ifly = MyFlyer(\n",
    "    scans.scan1, \n",
    "    m1, \n",
    "    [scaler.channels.chan03.s, scaler.channels.chan02.s, calcs.calc2.val], \n",
    "    [scaler.count, calcs.calc2.process], \n",
    "    -3, \n",
    "    6, \n",
    "    6, \n",
    "    name=\"ifly\")"
   ]
  },
  {
   "cell_type": "code",
   "execution_count": null,
   "metadata": {},
   "outputs": [],
   "source": [
    "ifly.kickoff()"
   ]
  },
  {
   "cell_type": "code",
   "execution_count": null,
   "metadata": {},
   "outputs": [],
   "source": [
    "ifly.complete()"
   ]
  },
  {
   "cell_type": "code",
   "execution_count": null,
   "metadata": {},
   "outputs": [],
   "source": [
    "ifly.describe_collect()"
   ]
  },
  {
   "cell_type": "code",
   "execution_count": null,
   "metadata": {},
   "outputs": [],
   "source": [
    "ifly.collect()"
   ]
  },
  {
   "cell_type": "code",
   "execution_count": null,
   "metadata": {},
   "outputs": [],
   "source": [
    "g = _\n",
    "print(list(g))"
   ]
  },
  {
   "cell_type": "code",
   "execution_count": null,
   "metadata": {},
   "outputs": [],
   "source": [
    "RE(bp.fly([ifly]))"
   ]
  },
  {
   "cell_type": "code",
   "execution_count": null,
   "metadata": {},
   "outputs": [],
   "source": [
    "h = db[-1]\n",
    "print(h.stream_names)"
   ]
  },
  {
   "cell_type": "code",
   "execution_count": null,
   "metadata": {},
   "outputs": [],
   "source": [
    "h.table(\"primary\")"
   ]
  },
  {
   "cell_type": "code",
   "execution_count": null,
   "metadata": {
    "scrolled": true
   },
   "outputs": [],
   "source": [
    "list(h.documents())"
   ]
  },
  {
   "cell_type": "markdown",
   "metadata": {},
   "source": [
    "# Conclusion\n",
    "\n",
    "The ophyd *Flyer* is not well-suited to the case of the simple 1-D step scan using the scan record.  With *Flyer* objects, the workflow is *kickoff*, *complete*, then *collect*, where `complete()` will return a status object and `collect()` is a generator of data events.  Sicne `collect()` is called after the sscan is done, there is no chance to collect the data (with timestamps) after each step in the scan.  Instead, the Flyer is best for *silent* accumulation and cache of that data during the `complete()` method, then reporting of it later in `collect()`.  **We could do better supporting this use of sscan with a BS plan.**\n",
    "\n",
    "Good to know."
   ]
  }
 ],
 "metadata": {
  "kernelspec": {
   "display_name": "Python 3",
   "language": "python",
   "name": "python3"
  },
  "language_info": {
   "codemirror_mode": {
    "name": "ipython",
    "version": 3
   },
   "file_extension": ".py",
   "mimetype": "text/x-python",
   "name": "python",
   "nbconvert_exporter": "python",
   "pygments_lexer": "ipython3",
   "version": "3.6.6"
  }
 },
 "nbformat": 4,
 "nbformat_minor": 2
}
