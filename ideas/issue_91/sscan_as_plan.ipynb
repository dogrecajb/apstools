{
 "cells": [
  {
   "cell_type": "markdown",
   "metadata": {},
   "source": [
    "# sscan as Bluesky plan\n",
    "\n",
    "## 1D step scans using sscan record\n",
    "\n",
    "Support the [sscan record](https://epics.anl.gov/bcda/synApps/sscan/sscanRecord.html) with a  [bluesky](http://nsls-ii.github.io/bluesky) plan for data acquisition.  Consider the case of [1D step scans using sscan record](https://epics.anl.gov/bcda/synApps/sscan/sscanRecord.html#HEADING_1-1)."
   ]
  },
  {
   "cell_type": "code",
   "execution_count": 1,
   "metadata": {},
   "outputs": [],
   "source": [
    "import asyncio\n",
    "from collections import deque, OrderedDict\n",
    "import numpy as np\n",
    "import time\n",
    "\n",
    "%matplotlib notebook\n",
    "from bluesky.utils import install_qt_kicker\n",
    "install_qt_kicker()\n",
    "\n",
    "# common IOC prefix to be used\n",
    "P = \"prj:\""
   ]
  },
  {
   "cell_type": "code",
   "execution_count": 2,
   "metadata": {},
   "outputs": [],
   "source": [
    "from ophyd.scaler import ScalerCH\n",
    "scaler = ScalerCH(f\"{P}scaler1\", name=\"scaler\")\n",
    "scaler.select_channels(None)"
   ]
  },
  {
   "cell_type": "code",
   "execution_count": 3,
   "metadata": {},
   "outputs": [],
   "source": [
    "from ophyd import EpicsMotor\n",
    "m1 = EpicsMotor(f\"{P}m1\", name=\"m1\")"
   ]
  },
  {
   "cell_type": "code",
   "execution_count": 4,
   "metadata": {},
   "outputs": [],
   "source": [
    "from apstools.synApps_ophyd import userCalcsDevice\n",
    "calcs = userCalcsDevice(P, name=\"calcs\")"
   ]
  },
  {
   "cell_type": "code",
   "execution_count": 5,
   "metadata": {},
   "outputs": [],
   "source": [
    "from apstools.synApps_ophyd import sscanDevice\n",
    "scans = sscanDevice(P, name=\"scans\")\n",
    "scans.select_channels()"
   ]
  },
  {
   "cell_type": "code",
   "execution_count": 6,
   "metadata": {},
   "outputs": [],
   "source": [
    "from apstools.synApps_ophyd import SaveData\n",
    "save_data = SaveData(f\"{P}saveData_\", name=\"save_data\")"
   ]
  },
  {
   "cell_type": "code",
   "execution_count": 7,
   "metadata": {},
   "outputs": [],
   "source": [
    "# configure saveData for data collection into MDA files:\n",
    "        \n",
    "save_data.file_system.put(\"/tmp\")\n",
    "save_data.subdirectory.put(\"saveData\")\n",
    "save_data.base_name.put(\"sscan1_\")\n",
    "save_data.next_scan_number.put(1)\n",
    "save_data.comment1.put(\"testing\")\n",
    "save_data.comment2.put(\"configured and run from ophyd\")"
   ]
  },
  {
   "cell_type": "code",
   "execution_count": 8,
   "metadata": {},
   "outputs": [],
   "source": [
    "# configure the sscan record for data collection:\n",
    "\n",
    "# clear out the weeds\n",
    "scans.reset()\n",
    "\n",
    "scan = scans.scan1\n",
    "scan.number_points.put(6)\n",
    "scan.positioners.p1.setpoint_pv.put(m1.user_setpoint.pvname)\n",
    "scan.positioners.p1.readback_pv.put(m1.user_readback.pvname)\n",
    "scan.positioners.p1.start.put(-1)\n",
    "scan.positioners.p1.end.put(0)\n",
    "scan.positioner_delay.put(0.0)\n",
    "scan.detector_delay.put(0.1)\n",
    "scan.detectors.d01.input_pv.put(scaler.channels.chan03.s.pvname)\n",
    "scan.detectors.d02.input_pv.put(scaler.channels.chan02.s.pvname)\n",
    "scan.triggers.t1.trigger_pv.put(scaler.count.pvname)\n",
    "\n",
    "# finally, reconfigure\n",
    "scans.select_channels()"
   ]
  },
  {
   "cell_type": "code",
   "execution_count": 9,
   "metadata": {},
   "outputs": [],
   "source": [
    "# make a noisy detector in an EPICS swait record, peak ceneter at 2\n",
    "from apstools.synApps_ophyd import swait_setup_lorentzian\n",
    "swait_setup_lorentzian(calcs.calc2, m1, 2)\n",
    "noisy_det = calcs.calc2.val\n",
    "noisy_det.kind = \"hinted\""
   ]
  },
  {
   "cell_type": "code",
   "execution_count": 10,
   "metadata": {
    "scrolled": true
   },
   "outputs": [],
   "source": [
    "def ophyd_step_scan(motor):\n",
    "    \"\"\"step-scan the motor and read the noisy detector\"\"\"\n",
    "    t0 = time.time()\n",
    "    for p in range(10):\n",
    "        motor.move(p-3)\n",
    "        print(\n",
    "            \"%8.3f\" % (time.time()-t0), \n",
    "            \"%8.2f\" % motor.position, \n",
    "            \"%8.4f\" % noisy_det.get()\n",
    "             )\n",
    "    motor.move(0)\n",
    "    print(\"Complete in %.3f seconds\" % (time.time()-t0))\n",
    "\n",
    "# ophyd_step_scan(m1)"
   ]
  },
  {
   "cell_type": "markdown",
   "metadata": {},
   "source": [
    "--------\n",
    "## setup Bluesky, databroker, and the RunEngine"
   ]
  },
  {
   "cell_type": "code",
   "execution_count": 11,
   "metadata": {},
   "outputs": [],
   "source": [
    "from databroker import Broker\n",
    "db = Broker.named(\"mongodb_config\")"
   ]
  },
  {
   "cell_type": "code",
   "execution_count": 12,
   "metadata": {},
   "outputs": [],
   "source": [
    "from bluesky import RunEngine\n",
    "import bluesky.plans as bp\n",
    "import bluesky.plan_stubs as bps\n",
    "from bluesky.callbacks.best_effort import BestEffortCallback\n",
    "from bluesky import SupplementalData\n",
    "\n",
    "RE = RunEngine({})\n",
    "RE.subscribe(db.insert)\n",
    "RE.subscribe(BestEffortCallback())\n",
    "RE.preprocessors.append(SupplementalData())"
   ]
  },
  {
   "cell_type": "markdown",
   "metadata": {},
   "source": [
    "------\n",
    "## Develop the BS plan"
   ]
  },
  {
   "cell_type": "code",
   "execution_count": 23,
   "metadata": {},
   "outputs": [],
   "source": [
    "import apstools.plans as APS_plans\n",
    "import ophyd\n",
    "\n",
    "\n",
    "def get_sscan_data_objects(sscan):\n",
    "    \"\"\"\n",
    "    prepare a dictionary of the \"interesting\" ophyd data objects for this scan\n",
    "    \"\"\"\n",
    "    scan_data_objects = OrderedDict()\n",
    "    for part in (sscan.positioners, sscan.detectors):\n",
    "        for chname in part.read_attrs:\n",
    "            if not chname.endswith(\"_value\"):\n",
    "                continue\n",
    "            obj = getattr(part, chname)\n",
    "            key = obj.name.lstrip(sscan.name + \"_\")\n",
    "            scan_data_objects[key] = obj\n",
    "    return scan_data_objects\n",
    "\n",
    "    \n",
    "def sscan_step_1D(sscan, _md={}):\n",
    "    \"\"\"simple 1-D step scan using EPICS synApps sscan record\"\"\"\n",
    "    # TODO: prep\n",
    "    t0 = time.time()\n",
    "    sscan_status = ophyd.DeviceStatus(sscan.execute_scan)\n",
    "    started = False\n",
    "    \n",
    "    def execute_cb(value, timestamp, **kwargs):\n",
    "        if started and value in (0, \"IDLE\"):\n",
    "            sscan_status._finished()\n",
    "            sscan.execute_scan.unsubscribe_all()\n",
    "            sscan.scan_phase.unsubscribe_all()\n",
    "        else:\n",
    "            elapsed = \"%.3f\" % (time.time() - t0)\n",
    "            phase = sscan.scan_phase.get(as_string=True)\n",
    "            print(f\"{elapsed} execute_cb() {timestamp}: phase={phase}  executing={value}\")\n",
    "    \n",
    "    def phase_cb(value, timestamp, **kwargs):\n",
    "        elapsed = \"%.3f\" % (time.time() - t0)\n",
    "        phase = sscan.scan_phase.enum_strs[value]\n",
    "        #print(f\"{elapsed} phase_cb() {timestamp}: phase={phase}  value={value}\")\n",
    "        if value in (15, \"RECORD SCALAR DATA\"):\n",
    "            #yield sscan.read()\n",
    "            #print(sscan.read())\n",
    "            print(f\"{elapsed} new data {timestamp}\")\n",
    "            # TODO: how to report this data FROM HERE to RE\n",
    "    \n",
    "    #yield from bps.open_run(_md)\n",
    "    sscan.execute_scan.subscribe(execute_cb)\n",
    "    sscan.scan_phase.subscribe(phase_cb)\n",
    "    yield from bps.mv(sscan.execute_scan, 1)\n",
    "    #report()\n",
    "    started = True\n",
    "    #yield from bps.close_run()\n",
    "\n",
    "    \n",
    "    # TODO: collect and emit data, wait for sscan to end\n",
    "    return sscan_status"
   ]
  },
  {
   "cell_type": "code",
   "execution_count": 24,
   "metadata": {},
   "outputs": [
    {
     "name": "stdout",
     "output_type": "stream",
     "text": [
      "0.001 execute_cb() 1552342298.804289: phase=IDLE  executing=0\n",
      "0.004 execute_cb() 1552342298.804289: phase=SCAN_PENDING  executing=1\n",
      "0.004 execute_cb() 1552342405.5305305: phase=SCAN_PENDING  executing=1\n"
     ]
    },
    {
     "data": {
      "text/plain": [
       "()"
      ]
     },
     "execution_count": 24,
     "metadata": {},
     "output_type": "execute_result"
    },
    {
     "name": "stdout",
     "output_type": "stream",
     "text": [
      "1.823 new data 1552342405.603196\n",
      "2.721 new data 1552342405.603196\n",
      "3.625 new data 1552342405.603196\n",
      "4.528 new data 1552342405.603196\n",
      "5.430 new data 1552342405.603196\n",
      "6.339 new data 1552342405.603196\n"
     ]
    }
   ],
   "source": [
    "scans = sscanDevice(P, name=\"scans\")\n",
    "scans.select_channels()\n",
    "\n",
    "RE(sscan_step_1D(scans.scan1))"
   ]
  },
  {
   "cell_type": "code",
   "execution_count": null,
   "metadata": {},
   "outputs": [],
   "source": []
  }
 ],
 "metadata": {
  "kernelspec": {
   "display_name": "Python 3",
   "language": "python",
   "name": "python3"
  },
  "language_info": {
   "codemirror_mode": {
    "name": "ipython",
    "version": 3
   },
   "file_extension": ".py",
   "mimetype": "text/x-python",
   "name": "python",
   "nbconvert_exporter": "python",
   "pygments_lexer": "ipython3",
   "version": "3.6.6"
  }
 },
 "nbformat": 4,
 "nbformat_minor": 2
}
