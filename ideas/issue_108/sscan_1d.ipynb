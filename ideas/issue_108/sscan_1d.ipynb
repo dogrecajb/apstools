{
 "cells": [
  {
   "cell_type": "markdown",
   "metadata": {},
   "source": [
    "# Issue 108: generalize `sscan_1d`"
   ]
  },
  {
   "cell_type": "code",
   "execution_count": 1,
   "metadata": {},
   "outputs": [],
   "source": [
    "P = \"xxx:\""
   ]
  },
  {
   "cell_type": "code",
   "execution_count": 2,
   "metadata": {},
   "outputs": [],
   "source": [
    "from databroker import Broker\n",
    "db = Broker.named(\"mongodb_config\")\n",
    "\n",
    "from bluesky import RunEngine\n",
    "import bluesky.plans as bp\n",
    "import bluesky.plan_stubs as bps\n",
    "from bluesky.callbacks.best_effort import BestEffortCallback\n",
    "from bluesky import SupplementalData\n",
    "\n",
    "RE = RunEngine({})\n",
    "RE.subscribe(db.insert)\n",
    "RE.subscribe(BestEffortCallback())\n",
    "RE.preprocessors.append(SupplementalData())"
   ]
  },
  {
   "cell_type": "code",
   "execution_count": 3,
   "metadata": {},
   "outputs": [],
   "source": [
    "from apstools.devices import sscanDevice\n",
    "from apstools.plans import sscan_1D\n",
    "scans = sscanDevice(P, name=\"scans\")\n",
    "scans.select_channels()"
   ]
  },
  {
   "cell_type": "code",
   "execution_count": 8,
   "metadata": {},
   "outputs": [
    {
     "name": "stdout",
     "output_type": "stream",
     "text": [
      "Transient Scan ID: 2     Time: 2019-03-13 17:31:43\n",
      "Persistent Unique Scan ID: '03e854ae-589f-44f5-acf2-d5fdc519c863'\n",
      "New stream: 'primary'\n",
      "+-----------+------------+\n",
      "|   seq_num |       time |\n",
      "+-----------+------------+\n",
      "|         1 | 17:31:45.8 |\n",
      "|         2 | 17:31:46.9 |\n",
      "|         3 | 17:31:48.0 |\n",
      "|         4 | 17:31:49.1 |\n",
      "|         5 | 17:31:50.2 |\n",
      "|         6 | 17:31:51.3 |\n",
      "New stream: 'arrays'\n",
      "New stream: 'scans_scan1_settings'\n",
      "+-----------+------------+\n",
      "generator sscan_1D ['03e854ae'] (scan num: 2)\n",
      "\n",
      "\n",
      "\n"
     ]
    },
    {
     "data": {
      "text/plain": [
       "('03e854ae-589f-44f5-acf2-d5fdc519c863',)"
      ]
     },
     "execution_count": 8,
     "metadata": {},
     "output_type": "execute_result"
    }
   ],
   "source": [
    "RE(sscan_1D(scans.scan1, final_array_stream=\"arrays\", md=dict(purpose=\"development\", issue=\"#108\")))"
   ]
  },
  {
   "cell_type": "code",
   "execution_count": 9,
   "metadata": {},
   "outputs": [
    {
     "data": {
      "text/plain": [
       "['primary', 'scans_scan1_settings', 'arrays']"
      ]
     },
     "execution_count": 9,
     "metadata": {},
     "output_type": "execute_result"
    }
   ],
   "source": [
    "h = db[-1]\n",
    "h.stream_names"
   ]
  },
  {
   "cell_type": "code",
   "execution_count": 10,
   "metadata": {},
   "outputs": [
    {
     "data": {
      "text/html": [
       "<div>\n",
       "<style scoped>\n",
       "    .dataframe tbody tr th:only-of-type {\n",
       "        vertical-align: middle;\n",
       "    }\n",
       "\n",
       "    .dataframe tbody tr th {\n",
       "        vertical-align: top;\n",
       "    }\n",
       "\n",
       "    .dataframe thead th {\n",
       "        text-align: right;\n",
       "    }\n",
       "</style>\n",
       "<table border=\"1\" class=\"dataframe\">\n",
       "  <thead>\n",
       "    <tr style=\"text-align: right;\">\n",
       "      <th></th>\n",
       "      <th>time</th>\n",
       "      <th>scans_scan1_detectors_d02_array</th>\n",
       "      <th>scans_scan1_positioners_p1_array</th>\n",
       "      <th>scans_scan1_detectors_d01_array</th>\n",
       "    </tr>\n",
       "    <tr>\n",
       "      <th>seq_num</th>\n",
       "      <th></th>\n",
       "      <th></th>\n",
       "      <th></th>\n",
       "      <th></th>\n",
       "    </tr>\n",
       "  </thead>\n",
       "  <tbody>\n",
       "    <tr>\n",
       "      <th>1</th>\n",
       "      <td>2019-03-13 17:31:51.378971815</td>\n",
       "      <td>[3.0, 1.0, 3.0, 7.0, 3.0, 1.0, 1.0, 1.0, 1.0, ...</td>\n",
       "      <td>[-1.0, -0.8, -0.6, -0.4, -0.2, 0.0, 0.0, 0.0, ...</td>\n",
       "      <td>[3.0, 2.0, 2.0, 7.0, 3.0, 2.0, 2.0, 2.0, 2.0, ...</td>\n",
       "    </tr>\n",
       "  </tbody>\n",
       "</table>\n",
       "</div>"
      ],
      "text/plain": [
       "                                 time  \\\n",
       "seq_num                                 \n",
       "1       2019-03-13 17:31:51.378971815   \n",
       "\n",
       "                           scans_scan1_detectors_d02_array  \\\n",
       "seq_num                                                      \n",
       "1        [3.0, 1.0, 3.0, 7.0, 3.0, 1.0, 1.0, 1.0, 1.0, ...   \n",
       "\n",
       "                          scans_scan1_positioners_p1_array  \\\n",
       "seq_num                                                      \n",
       "1        [-1.0, -0.8, -0.6, -0.4, -0.2, 0.0, 0.0, 0.0, ...   \n",
       "\n",
       "                           scans_scan1_detectors_d01_array  \n",
       "seq_num                                                     \n",
       "1        [3.0, 2.0, 2.0, 7.0, 3.0, 2.0, 2.0, 2.0, 2.0, ...  "
      ]
     },
     "execution_count": 10,
     "metadata": {},
     "output_type": "execute_result"
    }
   ],
   "source": [
    "h.table(\"arrays\")"
   ]
  }
 ],
 "metadata": {
  "kernelspec": {
   "display_name": "Python 3",
   "language": "python",
   "name": "python3"
  },
  "language_info": {
   "codemirror_mode": {
    "name": "ipython",
    "version": 3
   },
   "file_extension": ".py",
   "mimetype": "text/x-python",
   "name": "python",
   "nbconvert_exporter": "python",
   "pygments_lexer": "ipython3",
   "version": "3.6.6"
  }
 },
 "nbformat": 4,
 "nbformat_minor": 2
}
