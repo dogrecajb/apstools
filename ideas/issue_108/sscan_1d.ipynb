{
 "cells": [
  {
   "cell_type": "markdown",
   "metadata": {},
   "source": [
    "# Issue 108: generalize `sscan_1d`"
   ]
  },
  {
   "cell_type": "code",
   "execution_count": 1,
   "metadata": {},
   "outputs": [],
   "source": [
    "P = \"xxx:\""
   ]
  },
  {
   "cell_type": "code",
   "execution_count": 2,
   "metadata": {},
   "outputs": [],
   "source": [
    "from databroker import Broker\n",
    "db = Broker.named(\"mongodb_config\")\n",
    "\n",
    "from bluesky import RunEngine\n",
    "import bluesky.plans as bp\n",
    "import bluesky.plan_stubs as bps\n",
    "from bluesky.callbacks.best_effort import BestEffortCallback\n",
    "from bluesky import SupplementalData\n",
    "\n",
    "RE = RunEngine({})\n",
    "RE.subscribe(db.insert)\n",
    "RE.subscribe(BestEffortCallback())\n",
    "RE.preprocessors.append(SupplementalData())"
   ]
  },
  {
   "cell_type": "code",
   "execution_count": 3,
   "metadata": {},
   "outputs": [],
   "source": [
    "from apstools.devices import sscanDevice\n",
    "from apstools.plans import sscan_1D\n",
    "scans = sscanDevice(P, name=\"scans\")\n",
    "scans.select_channels()"
   ]
  },
  {
   "cell_type": "code",
   "execution_count": 6,
   "metadata": {},
   "outputs": [
    {
     "name": "stdout",
     "output_type": "stream",
     "text": [
      "Transient Scan ID: 2     Time: 2019-03-13 18:04:56\n",
      "Persistent Unique Scan ID: '3dce5c9a-4c99-4108-a5d3-a44aa7c4b00c'\n",
      "New stream: 'primary'\n",
      "+-----------+------------+\n",
      "|   seq_num |       time |\n",
      "+-----------+------------+\n",
      "|         1 | 18:04:58.2 |\n",
      "|         2 | 18:04:59.4 |\n",
      "|         3 | 18:05:00.6 |\n",
      "|         4 | 18:05:01.8 |\n",
      "|         5 | 18:05:03.0 |\n",
      "|         6 | 18:05:04.2 |\n",
      "New stream: 'arrays'\n",
      "New stream: 'settings'\n",
      "+-----------+------------+\n",
      "generator sscan_1D ['3dce5c9a'] (scan num: 2)\n",
      "\n",
      "\n",
      "\n"
     ]
    },
    {
     "data": {
      "text/plain": [
       "('3dce5c9a-4c99-4108-a5d3-a44aa7c4b00c',)"
      ]
     },
     "execution_count": 6,
     "metadata": {},
     "output_type": "execute_result"
    }
   ],
   "source": [
    "RE(sscan_1D(scans.scan1, final_array_stream=\"arrays\", phase_timeout_s=10, md=dict(purpose=\"development\", issue=\"#108\")))"
   ]
  },
  {
   "cell_type": "code",
   "execution_count": 7,
   "metadata": {},
   "outputs": [
    {
     "name": "stdout",
     "output_type": "stream",
     "text": [
      "\n",
      " ========== arrays ==========\n",
      "                                 time  \\\n",
      "seq_num                                 \n",
      "1       2019-03-13 18:05:04.256937265   \n",
      "\n",
      "                           scans_scan1_detectors_d01_array  \\\n",
      "seq_num                                                      \n",
      "1        [3.0, 3.0, 2.0, 7.0, 4.0, 2.0, 2.0, 2.0, 2.0, ...   \n",
      "\n",
      "                           scans_scan1_detectors_d02_array  \\\n",
      "seq_num                                                      \n",
      "1        [2.0, 2.0, 1.0, 7.0, 2.0, 3.0, 3.0, 3.0, 3.0, ...   \n",
      "\n",
      "                          scans_scan1_positioners_p1_array  \n",
      "seq_num                                                     \n",
      "1        [-1.0, -0.8, -0.6, -0.4, -0.2, 0.0, 0.0, 0.0, ...  \n",
      "\n",
      " ========== primary ==========\n",
      "                                 time  \\\n",
      "seq_num                                 \n",
      "1       2019-03-13 18:04:58.230023623   \n",
      "2       2019-03-13 18:04:59.400681257   \n",
      "3       2019-03-13 18:05:00.603464365   \n",
      "4       2019-03-13 18:05:01.800942421   \n",
      "5       2019-03-13 18:05:03.004353285   \n",
      "6       2019-03-13 18:05:04.207782745   \n",
      "\n",
      "         scans_scan1_positioners_p1_readback_value  \\\n",
      "seq_num                                              \n",
      "1                                             -1.0   \n",
      "2                                             -0.8   \n",
      "3                                             -0.6   \n",
      "4                                             -0.4   \n",
      "5                                             -0.2   \n",
      "6                                              0.0   \n",
      "\n",
      "         scans_scan1_detectors_d01_current_value  \\\n",
      "seq_num                                            \n",
      "1                                            3.0   \n",
      "2                                            3.0   \n",
      "3                                            2.0   \n",
      "4                                            7.0   \n",
      "5                                            4.0   \n",
      "6                                            2.0   \n",
      "\n",
      "         scans_scan1_detectors_d02_current_value  \\\n",
      "seq_num                                            \n",
      "1                                            2.0   \n",
      "2                                            2.0   \n",
      "3                                            1.0   \n",
      "4                                            7.0   \n",
      "5                                            2.0   \n",
      "6                                            3.0   \n",
      "\n",
      "         scans_scan1_positioners_p1_setpoint_value  \n",
      "seq_num                                             \n",
      "1                                    -8.000000e-01  \n",
      "2                                    -6.000000e-01  \n",
      "3                                    -4.000000e-01  \n",
      "4                                    -2.000000e-01  \n",
      "5                                    -5.551115e-17  \n",
      "6                                    -5.551115e-17  \n",
      "\n",
      " ========== settings ==========\n",
      "                                 time  scans_scan1_scan_phase  \\\n",
      "seq_num                                                         \n",
      "1       2019-03-13 18:05:04.324294806                       0   \n",
      "\n",
      "         scans_scan1_data_state  scans_scan1_data_ready  \\\n",
      "seq_num                                                   \n",
      "1                             7                       1   \n",
      "\n",
      "         scans_scan1_scan_busy  scans_scan1_alert_flag  \\\n",
      "seq_num                                                  \n",
      "1                            0                       0   \n",
      "\n",
      "        scans_scan1_alert_message  scans_scan1_current_point  \\\n",
      "seq_num                                                        \n",
      "1                   SCAN Complete                          6   \n",
      "\n",
      "         scans_scan1_pasm  scans_scan1_execute_scan  \\\n",
      "seq_num                                               \n",
      "1                       0                         0   \n",
      "\n",
      "                         ...                    scans_scan1_acqm  \\\n",
      "seq_num                  ...                                       \n",
      "1                        ...                                   0   \n",
      "\n",
      "         scans_scan1_atime  scans_scan1_copyto  scans_scan1_a1cd  \\\n",
      "seq_num                                                            \n",
      "1                      0.0                   0               1.0   \n",
      "\n",
      "         scans_scan1_ascd  scans_scan1_positioners_p1_readback_value  \\\n",
      "seq_num                                                                \n",
      "1                     1.0                                        0.0   \n",
      "\n",
      "         scans_scan1_positioners_p1_setpoint_value  \\\n",
      "seq_num                                              \n",
      "1                                    -5.551115e-17   \n",
      "\n",
      "         scans_scan1_detectors_d01_current_value  \\\n",
      "seq_num                                            \n",
      "1                                            2.0   \n",
      "\n",
      "         scans_scan1_detectors_d02_current_value  \\\n",
      "seq_num                                            \n",
      "1                                            3.0   \n",
      "\n",
      "         scans_scan1_triggers_t1_trigger_value  \n",
      "seq_num                                         \n",
      "1                                          1.0  \n",
      "\n",
      "[1 rows x 29 columns]\n"
     ]
    }
   ],
   "source": [
    "h = db[-1]\n",
    "for stream in sorted(h.stream_names):\n",
    "    print(\"\\n\", \"=\"*10, stream, \"=\"*10)\n",
    "    print(h.table(stream))"
   ]
  }
 ],
 "metadata": {
  "kernelspec": {
   "display_name": "Python 3",
   "language": "python",
   "name": "python3"
  },
  "language_info": {
   "codemirror_mode": {
    "name": "ipython",
    "version": 3
   },
   "file_extension": ".py",
   "mimetype": "text/x-python",
   "name": "python",
   "nbconvert_exporter": "python",
   "pygments_lexer": "ipython3",
   "version": "3.6.6"
  }
 },
 "nbformat": 4,
 "nbformat_minor": 2
}
