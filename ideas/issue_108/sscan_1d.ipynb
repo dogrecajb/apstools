{
 "cells": [
  {
   "cell_type": "markdown",
   "metadata": {},
   "source": [
    "# Issue 108: generalize `sscan_1d`"
   ]
  },
  {
   "cell_type": "code",
   "execution_count": 1,
   "metadata": {},
   "outputs": [],
   "source": [
    "P = \"xxx:\""
   ]
  },
  {
   "cell_type": "code",
   "execution_count": 2,
   "metadata": {},
   "outputs": [],
   "source": [
    "from databroker import Broker\n",
    "db = Broker.named(\"mongodb_config\")\n",
    "\n",
    "from bluesky import RunEngine\n",
    "import bluesky.plans as bp\n",
    "import bluesky.plan_stubs as bps\n",
    "from bluesky.callbacks.best_effort import BestEffortCallback\n",
    "from bluesky import SupplementalData\n",
    "\n",
    "RE = RunEngine({})\n",
    "RE.subscribe(db.insert)\n",
    "RE.subscribe(BestEffortCallback())\n",
    "RE.preprocessors.append(SupplementalData())"
   ]
  },
  {
   "cell_type": "code",
   "execution_count": 3,
   "metadata": {},
   "outputs": [],
   "source": [
    "from apstools.devices import sscanDevice\n",
    "from apstools.plans import sscan_1D\n",
    "scans = sscanDevice(P, name=\"scans\")\n",
    "scans.select_channels()"
   ]
  },
  {
   "cell_type": "code",
   "execution_count": 4,
   "metadata": {},
   "outputs": [
    {
     "name": "stdout",
     "output_type": "stream",
     "text": [
      "Transient Scan ID: 1     Time: 2019-03-13 17:17:18\n",
      "Persistent Unique Scan ID: '29ec33b7-09cd-4bf6-b73e-b627e7baf9a0'\n",
      "New stream: 'scans_scan1_settings'\n",
      "\n",
      "\n",
      "\n"
     ]
    },
    {
     "data": {
      "text/plain": [
       "('29ec33b7-09cd-4bf6-b73e-b627e7baf9a0',)"
      ]
     },
     "execution_count": 4,
     "metadata": {},
     "output_type": "execute_result"
    }
   ],
   "source": [
    "RE(sscan_1D(scans.scan1, running_stream=\"other\", md=dict(purpose=\"development\", issue=\"#108\")))"
   ]
  },
  {
   "cell_type": "code",
   "execution_count": 5,
   "metadata": {},
   "outputs": [
    {
     "data": {
      "text/plain": [
       "['scans_scan1_settings']"
      ]
     },
     "execution_count": 5,
     "metadata": {},
     "output_type": "execute_result"
    }
   ],
   "source": [
    "h = db[-1]\n",
    "h.stream_names"
   ]
  },
  {
   "cell_type": "code",
   "execution_count": 6,
   "metadata": {},
   "outputs": [
    {
     "data": {
      "text/html": [
       "<div>\n",
       "<style scoped>\n",
       "    .dataframe tbody tr th:only-of-type {\n",
       "        vertical-align: middle;\n",
       "    }\n",
       "\n",
       "    .dataframe tbody tr th {\n",
       "        vertical-align: top;\n",
       "    }\n",
       "\n",
       "    .dataframe thead th {\n",
       "        text-align: right;\n",
       "    }\n",
       "</style>\n",
       "<table border=\"1\" class=\"dataframe\">\n",
       "  <thead>\n",
       "    <tr style=\"text-align: right;\">\n",
       "      <th></th>\n",
       "      <th>time</th>\n",
       "      <th>scans_scan1_scan_phase</th>\n",
       "      <th>scans_scan1_data_state</th>\n",
       "      <th>scans_scan1_data_ready</th>\n",
       "      <th>scans_scan1_scan_busy</th>\n",
       "      <th>scans_scan1_alert_flag</th>\n",
       "      <th>scans_scan1_alert_message</th>\n",
       "      <th>scans_scan1_current_point</th>\n",
       "      <th>scans_scan1_pasm</th>\n",
       "      <th>scans_scan1_execute_scan</th>\n",
       "      <th>...</th>\n",
       "      <th>scans_scan1_acqm</th>\n",
       "      <th>scans_scan1_atime</th>\n",
       "      <th>scans_scan1_copyto</th>\n",
       "      <th>scans_scan1_a1cd</th>\n",
       "      <th>scans_scan1_ascd</th>\n",
       "      <th>scans_scan1_positioners_p1_readback_value</th>\n",
       "      <th>scans_scan1_positioners_p1_setpoint_value</th>\n",
       "      <th>scans_scan1_detectors_d01_current_value</th>\n",
       "      <th>scans_scan1_detectors_d02_current_value</th>\n",
       "      <th>scans_scan1_triggers_t1_trigger_value</th>\n",
       "    </tr>\n",
       "    <tr>\n",
       "      <th>seq_num</th>\n",
       "      <th></th>\n",
       "      <th></th>\n",
       "      <th></th>\n",
       "      <th></th>\n",
       "      <th></th>\n",
       "      <th></th>\n",
       "      <th></th>\n",
       "      <th></th>\n",
       "      <th></th>\n",
       "      <th></th>\n",
       "      <th></th>\n",
       "      <th></th>\n",
       "      <th></th>\n",
       "      <th></th>\n",
       "      <th></th>\n",
       "      <th></th>\n",
       "      <th></th>\n",
       "      <th></th>\n",
       "      <th></th>\n",
       "      <th></th>\n",
       "      <th></th>\n",
       "    </tr>\n",
       "  </thead>\n",
       "  <tbody>\n",
       "    <tr>\n",
       "      <th>1</th>\n",
       "      <td>2019-03-13 17:17:26.086643219</td>\n",
       "      <td>0</td>\n",
       "      <td>7</td>\n",
       "      <td>1</td>\n",
       "      <td>0</td>\n",
       "      <td>0</td>\n",
       "      <td>SCAN Complete</td>\n",
       "      <td>6</td>\n",
       "      <td>0</td>\n",
       "      <td>0</td>\n",
       "      <td>...</td>\n",
       "      <td>0</td>\n",
       "      <td>0.0</td>\n",
       "      <td>0</td>\n",
       "      <td>1.0</td>\n",
       "      <td>1.0</td>\n",
       "      <td>0.0</td>\n",
       "      <td>-5.551115e-17</td>\n",
       "      <td>1.0</td>\n",
       "      <td>3.0</td>\n",
       "      <td>1.0</td>\n",
       "    </tr>\n",
       "  </tbody>\n",
       "</table>\n",
       "<p>1 rows × 29 columns</p>\n",
       "</div>"
      ],
      "text/plain": [
       "                                 time  scans_scan1_scan_phase  \\\n",
       "seq_num                                                         \n",
       "1       2019-03-13 17:17:26.086643219                       0   \n",
       "\n",
       "         scans_scan1_data_state  scans_scan1_data_ready  \\\n",
       "seq_num                                                   \n",
       "1                             7                       1   \n",
       "\n",
       "         scans_scan1_scan_busy  scans_scan1_alert_flag  \\\n",
       "seq_num                                                  \n",
       "1                            0                       0   \n",
       "\n",
       "        scans_scan1_alert_message  scans_scan1_current_point  \\\n",
       "seq_num                                                        \n",
       "1                   SCAN Complete                          6   \n",
       "\n",
       "         scans_scan1_pasm  scans_scan1_execute_scan  \\\n",
       "seq_num                                               \n",
       "1                       0                         0   \n",
       "\n",
       "                         ...                    scans_scan1_acqm  \\\n",
       "seq_num                  ...                                       \n",
       "1                        ...                                   0   \n",
       "\n",
       "         scans_scan1_atime  scans_scan1_copyto  scans_scan1_a1cd  \\\n",
       "seq_num                                                            \n",
       "1                      0.0                   0               1.0   \n",
       "\n",
       "         scans_scan1_ascd  scans_scan1_positioners_p1_readback_value  \\\n",
       "seq_num                                                                \n",
       "1                     1.0                                        0.0   \n",
       "\n",
       "         scans_scan1_positioners_p1_setpoint_value  \\\n",
       "seq_num                                              \n",
       "1                                    -5.551115e-17   \n",
       "\n",
       "         scans_scan1_detectors_d01_current_value  \\\n",
       "seq_num                                            \n",
       "1                                            1.0   \n",
       "\n",
       "         scans_scan1_detectors_d02_current_value  \\\n",
       "seq_num                                            \n",
       "1                                            3.0   \n",
       "\n",
       "         scans_scan1_triggers_t1_trigger_value  \n",
       "seq_num                                         \n",
       "1                                          1.0  \n",
       "\n",
       "[1 rows x 29 columns]"
      ]
     },
     "execution_count": 6,
     "metadata": {},
     "output_type": "execute_result"
    }
   ],
   "source": [
    "h.table(\"scans_scan1_settings\")"
   ]
  }
 ],
 "metadata": {
  "kernelspec": {
   "display_name": "Python 3",
   "language": "python",
   "name": "python3"
  },
  "language_info": {
   "codemirror_mode": {
    "name": "ipython",
    "version": 3
   },
   "file_extension": ".py",
   "mimetype": "text/x-python",
   "name": "python",
   "nbconvert_exporter": "python",
   "pygments_lexer": "ipython3",
   "version": "3.6.6"
  }
 },
 "nbformat": 4,
 "nbformat_minor": 2
}
