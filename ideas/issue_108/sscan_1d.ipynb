{
 "cells": [
  {
   "cell_type": "markdown",
   "metadata": {},
   "source": [
    "# Issue 108: generalize `sscan_1d`"
   ]
  },
  {
   "cell_type": "code",
   "execution_count": 1,
   "metadata": {},
   "outputs": [],
   "source": [
    "P = \"xxx:\""
   ]
  },
  {
   "cell_type": "code",
   "execution_count": 2,
   "metadata": {},
   "outputs": [],
   "source": [
    "from databroker import Broker\n",
    "db = Broker.named(\"mongodb_config\")\n",
    "\n",
    "from bluesky import RunEngine\n",
    "import bluesky.plans as bp\n",
    "import bluesky.plan_stubs as bps\n",
    "from bluesky.callbacks.best_effort import BestEffortCallback\n",
    "from bluesky import SupplementalData\n",
    "\n",
    "RE = RunEngine({})\n",
    "RE.subscribe(db.insert)\n",
    "RE.subscribe(BestEffortCallback())\n",
    "RE.preprocessors.append(SupplementalData())"
   ]
  },
  {
   "cell_type": "code",
   "execution_count": 3,
   "metadata": {},
   "outputs": [],
   "source": [
    "from apstools.devices import sscanDevice\n",
    "from apstools.plans import sscan_1D\n",
    "scans = sscanDevice(P, name=\"scans\")\n",
    "scans.select_channels()"
   ]
  },
  {
   "cell_type": "code",
   "execution_count": 4,
   "metadata": {},
   "outputs": [
    {
     "name": "stdout",
     "output_type": "stream",
     "text": [
      "Transient Scan ID: 1     Time: 2019-03-13 17:46:38\n",
      "Persistent Unique Scan ID: '6545ee38-b63f-429f-9230-c44e494f73a0'\n",
      "New stream: 'primary'\n",
      "+-----------+------------+\n",
      "|   seq_num |       time |\n",
      "+-----------+------------+\n",
      "|         1 | 17:46:40.4 |\n",
      "|         2 | 17:46:41.5 |\n",
      "|         3 | 17:46:42.6 |\n",
      "|         4 | 17:46:43.7 |\n",
      "|         5 | 17:46:44.8 |\n",
      "|         6 | 17:46:45.9 |\n",
      "New stream: 'arrays'\n",
      "New stream: 'settings'\n",
      "+-----------+------------+\n",
      "generator sscan_1D ['6545ee38'] (scan num: 1)\n",
      "\n",
      "\n",
      "\n"
     ]
    },
    {
     "data": {
      "text/plain": [
       "('6545ee38-b63f-429f-9230-c44e494f73a0',)"
      ]
     },
     "execution_count": 4,
     "metadata": {},
     "output_type": "execute_result"
    }
   ],
   "source": [
    "RE(sscan_1D(scans.scan1, final_array_stream=\"arrays\", md=dict(purpose=\"development\", issue=\"#108\")))"
   ]
  },
  {
   "cell_type": "code",
   "execution_count": 5,
   "metadata": {},
   "outputs": [
    {
     "name": "stdout",
     "output_type": "stream",
     "text": [
      "\n",
      " ========== arrays ==========\n",
      "                                 time  \\\n",
      "seq_num                                 \n",
      "1       2019-03-13 17:46:46.026848316   \n",
      "\n",
      "                           scans_scan1_detectors_d02_array  \\\n",
      "seq_num                                                      \n",
      "1        [2.0, 2.0, 2.0, 8.0, 2.0, 1.0, 1.0, 1.0, 1.0, ...   \n",
      "\n",
      "                          scans_scan1_positioners_p1_array  \\\n",
      "seq_num                                                      \n",
      "1        [-1.0, -0.8, -0.6, -0.4, -0.2, 0.0, 0.0, 0.0, ...   \n",
      "\n",
      "                           scans_scan1_detectors_d01_array  \n",
      "seq_num                                                     \n",
      "1        [3.0, 2.0, 3.0, 7.0, 3.0, 2.0, 2.0, 2.0, 2.0, ...  \n",
      "\n",
      " ========== primary ==========\n",
      "                                 time  \\\n",
      "seq_num                                 \n",
      "1       2019-03-13 17:46:40.490556479   \n",
      "2       2019-03-13 17:46:41.569675207   \n",
      "3       2019-03-13 17:46:42.665207624   \n",
      "4       2019-03-13 17:46:43.764654160   \n",
      "5       2019-03-13 17:46:44.869077206   \n",
      "6       2019-03-13 17:46:45.970940828   \n",
      "\n",
      "         scans_scan1_detectors_d02_current_value  \\\n",
      "seq_num                                            \n",
      "1                                            2.0   \n",
      "2                                            2.0   \n",
      "3                                            2.0   \n",
      "4                                            8.0   \n",
      "5                                            2.0   \n",
      "6                                            1.0   \n",
      "\n",
      "         scans_scan1_positioners_p1_readback_value  \\\n",
      "seq_num                                              \n",
      "1                                             -1.0   \n",
      "2                                             -0.8   \n",
      "3                                             -0.6   \n",
      "4                                             -0.4   \n",
      "5                                             -0.2   \n",
      "6                                              0.0   \n",
      "\n",
      "         scans_scan1_detectors_d01_current_value  \\\n",
      "seq_num                                            \n",
      "1                                            3.0   \n",
      "2                                            2.0   \n",
      "3                                            3.0   \n",
      "4                                            7.0   \n",
      "5                                            3.0   \n",
      "6                                            2.0   \n",
      "\n",
      "         scans_scan1_positioners_p1_setpoint_value  \n",
      "seq_num                                             \n",
      "1                                    -8.000000e-01  \n",
      "2                                    -6.000000e-01  \n",
      "3                                    -4.000000e-01  \n",
      "4                                    -2.000000e-01  \n",
      "5                                    -5.551115e-17  \n",
      "6                                    -5.551115e-17  \n",
      "\n",
      " ========== settings ==========\n",
      "                                 time  scans_scan1_scan_phase  \\\n",
      "seq_num                                                         \n",
      "1       2019-03-13 17:46:46.102550268                       0   \n",
      "\n",
      "         scans_scan1_data_state  scans_scan1_data_ready  \\\n",
      "seq_num                                                   \n",
      "1                             7                       1   \n",
      "\n",
      "         scans_scan1_scan_busy  scans_scan1_alert_flag  \\\n",
      "seq_num                                                  \n",
      "1                            0                       0   \n",
      "\n",
      "        scans_scan1_alert_message  scans_scan1_current_point  \\\n",
      "seq_num                                                        \n",
      "1                   SCAN Complete                          6   \n",
      "\n",
      "         scans_scan1_pasm  scans_scan1_execute_scan  \\\n",
      "seq_num                                               \n",
      "1                       0                         0   \n",
      "\n",
      "                         ...                    scans_scan1_acqm  \\\n",
      "seq_num                  ...                                       \n",
      "1                        ...                                   0   \n",
      "\n",
      "         scans_scan1_atime  scans_scan1_copyto  scans_scan1_a1cd  \\\n",
      "seq_num                                                            \n",
      "1                      0.0                   0               1.0   \n",
      "\n",
      "         scans_scan1_ascd  scans_scan1_positioners_p1_readback_value  \\\n",
      "seq_num                                                                \n",
      "1                     1.0                                        0.0   \n",
      "\n",
      "         scans_scan1_positioners_p1_setpoint_value  \\\n",
      "seq_num                                              \n",
      "1                                    -5.551115e-17   \n",
      "\n",
      "         scans_scan1_detectors_d01_current_value  \\\n",
      "seq_num                                            \n",
      "1                                            2.0   \n",
      "\n",
      "         scans_scan1_detectors_d02_current_value  \\\n",
      "seq_num                                            \n",
      "1                                            1.0   \n",
      "\n",
      "         scans_scan1_triggers_t1_trigger_value  \n",
      "seq_num                                         \n",
      "1                                          1.0  \n",
      "\n",
      "[1 rows x 29 columns]\n"
     ]
    }
   ],
   "source": [
    "h = db[-1]\n",
    "for stream in sorted(h.stream_names):\n",
    "    print(\"\\n\", \"=\"*10, stream, \"=\"*10)\n",
    "    print(h.table(stream))"
   ]
  }
 ],
 "metadata": {
  "kernelspec": {
   "display_name": "Python 3",
   "language": "python",
   "name": "python3"
  },
  "language_info": {
   "codemirror_mode": {
    "name": "ipython",
    "version": 3
   },
   "file_extension": ".py",
   "mimetype": "text/x-python",
   "name": "python",
   "nbconvert_exporter": "python",
   "pygments_lexer": "ipython3",
   "version": "3.6.6"
  }
 },
 "nbformat": 4,
 "nbformat_minor": 2
}
